{
 "cells": [
  {
   "cell_type": "code",
   "execution_count": 1,
   "id": "518dc435",
   "metadata": {},
   "outputs": [],
   "source": [
    "import pandas as  pd\n",
    "import numpy as np\n",
    "import seaborn as sn\n",
    "import matplotlib.pyplot as plt\n",
    "%matplotlib inline"
   ]
  },
  {
   "cell_type": "code",
   "execution_count": 2,
   "id": "459ec502",
   "metadata": {},
   "outputs": [
    {
     "data": {
      "text/html": [
       "<div>\n",
       "<style scoped>\n",
       "    .dataframe tbody tr th:only-of-type {\n",
       "        vertical-align: middle;\n",
       "    }\n",
       "\n",
       "    .dataframe tbody tr th {\n",
       "        vertical-align: top;\n",
       "    }\n",
       "\n",
       "    .dataframe thead th {\n",
       "        text-align: right;\n",
       "    }\n",
       "</style>\n",
       "<table border=\"1\" class=\"dataframe\">\n",
       "  <thead>\n",
       "    <tr style=\"text-align: right;\">\n",
       "      <th></th>\n",
       "      <th>buying</th>\n",
       "      <th>maintainance</th>\n",
       "      <th>doors</th>\n",
       "      <th>persons</th>\n",
       "      <th>luggage_boot</th>\n",
       "      <th>safety</th>\n",
       "      <th>class</th>\n",
       "    </tr>\n",
       "  </thead>\n",
       "  <tbody>\n",
       "    <tr>\n",
       "      <th>1199</th>\n",
       "      <td>med</td>\n",
       "      <td>low</td>\n",
       "      <td>2</td>\n",
       "      <td>4</td>\n",
       "      <td>small</td>\n",
       "      <td>high</td>\n",
       "      <td>good</td>\n",
       "    </tr>\n",
       "    <tr>\n",
       "      <th>841</th>\n",
       "      <td>high</td>\n",
       "      <td>low</td>\n",
       "      <td>5more</td>\n",
       "      <td>2</td>\n",
       "      <td>med</td>\n",
       "      <td>med</td>\n",
       "      <td>unacc</td>\n",
       "    </tr>\n",
       "    <tr>\n",
       "      <th>332</th>\n",
       "      <td>vhigh</td>\n",
       "      <td>low</td>\n",
       "      <td>2</td>\n",
       "      <td>2</td>\n",
       "      <td>big</td>\n",
       "      <td>high</td>\n",
       "      <td>unacc</td>\n",
       "    </tr>\n",
       "    <tr>\n",
       "      <th>881</th>\n",
       "      <td>med</td>\n",
       "      <td>vhigh</td>\n",
       "      <td>2</td>\n",
       "      <td>4</td>\n",
       "      <td>big</td>\n",
       "      <td>high</td>\n",
       "      <td>acc</td>\n",
       "    </tr>\n",
       "    <tr>\n",
       "      <th>1474</th>\n",
       "      <td>low</td>\n",
       "      <td>high</td>\n",
       "      <td>4</td>\n",
       "      <td>4</td>\n",
       "      <td>big</td>\n",
       "      <td>med</td>\n",
       "      <td>acc</td>\n",
       "    </tr>\n",
       "    <tr>\n",
       "      <th>1480</th>\n",
       "      <td>low</td>\n",
       "      <td>high</td>\n",
       "      <td>4</td>\n",
       "      <td>more</td>\n",
       "      <td>med</td>\n",
       "      <td>med</td>\n",
       "      <td>acc</td>\n",
       "    </tr>\n",
       "    <tr>\n",
       "      <th>905</th>\n",
       "      <td>med</td>\n",
       "      <td>vhigh</td>\n",
       "      <td>3</td>\n",
       "      <td>4</td>\n",
       "      <td>med</td>\n",
       "      <td>high</td>\n",
       "      <td>acc</td>\n",
       "    </tr>\n",
       "    <tr>\n",
       "      <th>1466</th>\n",
       "      <td>low</td>\n",
       "      <td>high</td>\n",
       "      <td>4</td>\n",
       "      <td>2</td>\n",
       "      <td>big</td>\n",
       "      <td>high</td>\n",
       "      <td>unacc</td>\n",
       "    </tr>\n",
       "    <tr>\n",
       "      <th>922</th>\n",
       "      <td>med</td>\n",
       "      <td>vhigh</td>\n",
       "      <td>4</td>\n",
       "      <td>2</td>\n",
       "      <td>med</td>\n",
       "      <td>med</td>\n",
       "      <td>unacc</td>\n",
       "    </tr>\n",
       "    <tr>\n",
       "      <th>571</th>\n",
       "      <td>high</td>\n",
       "      <td>high</td>\n",
       "      <td>3</td>\n",
       "      <td>2</td>\n",
       "      <td>med</td>\n",
       "      <td>med</td>\n",
       "      <td>unacc</td>\n",
       "    </tr>\n",
       "  </tbody>\n",
       "</table>\n",
       "</div>"
      ],
      "text/plain": [
       "     buying maintainance  doors persons luggage_boot safety  class\n",
       "1199    med          low      2       4        small   high   good\n",
       "841    high          low  5more       2          med    med  unacc\n",
       "332   vhigh          low      2       2          big   high  unacc\n",
       "881     med        vhigh      2       4          big   high    acc\n",
       "1474    low         high      4       4          big    med    acc\n",
       "1480    low         high      4    more          med    med    acc\n",
       "905     med        vhigh      3       4          med   high    acc\n",
       "1466    low         high      4       2          big   high  unacc\n",
       "922     med        vhigh      4       2          med    med  unacc\n",
       "571    high         high      3       2          med    med  unacc"
      ]
     },
     "execution_count": 2,
     "metadata": {},
     "output_type": "execute_result"
    }
   ],
   "source": [
    "df=pd.read_csv(\"car_evaluation.csv\")\n",
    "df.sample(10)"
   ]
  },
  {
   "cell_type": "code",
   "execution_count": 3,
   "id": "07b5db8d",
   "metadata": {},
   "outputs": [
    {
     "data": {
      "text/plain": [
       "(1728, 7)"
      ]
     },
     "execution_count": 3,
     "metadata": {},
     "output_type": "execute_result"
    }
   ],
   "source": [
    "df.shape"
   ]
  },
  {
   "cell_type": "code",
   "execution_count": 4,
   "id": "c774cb89",
   "metadata": {},
   "outputs": [
    {
     "data": {
      "text/plain": [
       "buying          0\n",
       "maintainance    0\n",
       "doors           0\n",
       "persons         0\n",
       "luggage_boot    0\n",
       "safety          0\n",
       "class           0\n",
       "dtype: int64"
      ]
     },
     "execution_count": 4,
     "metadata": {},
     "output_type": "execute_result"
    }
   ],
   "source": [
    "df.isnull().sum()"
   ]
  },
  {
   "cell_type": "code",
   "execution_count": 5,
   "id": "63ae3d85",
   "metadata": {},
   "outputs": [
    {
     "data": {
      "text/plain": [
       "buying          object\n",
       "maintainance    object\n",
       "doors           object\n",
       "persons         object\n",
       "luggage_boot    object\n",
       "safety          object\n",
       "class           object\n",
       "dtype: object"
      ]
     },
     "execution_count": 5,
     "metadata": {},
     "output_type": "execute_result"
    }
   ],
   "source": [
    "df.dtypes"
   ]
  },
  {
   "cell_type": "code",
   "execution_count": 6,
   "id": "0746f8df",
   "metadata": {},
   "outputs": [
    {
     "data": {
      "text/plain": [
       "array(['vhigh', 'high', 'med', 'low'], dtype=object)"
      ]
     },
     "execution_count": 6,
     "metadata": {},
     "output_type": "execute_result"
    }
   ],
   "source": [
    "df['buying'].unique()"
   ]
  },
  {
   "cell_type": "code",
   "execution_count": 7,
   "id": "9b6dd3ec",
   "metadata": {},
   "outputs": [
    {
     "data": {
      "text/plain": [
       "array([1, 2, 3, 4], dtype=int64)"
      ]
     },
     "execution_count": 7,
     "metadata": {},
     "output_type": "execute_result"
    }
   ],
   "source": [
    "df['buying'] = df['buying'].replace(['vhigh', 'high', 'med', 'low'], [1, 2, 3, 4])\n",
    "df['buying'].unique()#vhigh=1,high=2,med=3,low=4"
   ]
  },
  {
   "cell_type": "code",
   "execution_count": 8,
   "id": "7a14db58",
   "metadata": {},
   "outputs": [
    {
     "data": {
      "text/plain": [
       "array(['vhigh', 'high', 'med', 'low'], dtype=object)"
      ]
     },
     "execution_count": 8,
     "metadata": {},
     "output_type": "execute_result"
    }
   ],
   "source": [
    "df['maintainance'].unique()"
   ]
  },
  {
   "cell_type": "code",
   "execution_count": 9,
   "id": "e651a85f",
   "metadata": {},
   "outputs": [
    {
     "data": {
      "text/plain": [
       "array([1, 2, 3, 4], dtype=int64)"
      ]
     },
     "execution_count": 9,
     "metadata": {},
     "output_type": "execute_result"
    }
   ],
   "source": [
    "df['maintainance'] = df['maintainance'].replace(['vhigh', 'high', 'med', 'low'], [1, 2, 3, 4])\n",
    "df['maintainance'].unique()#vhigh=1,high=2,med=3,low=4"
   ]
  },
  {
   "cell_type": "code",
   "execution_count": 10,
   "id": "a78af822",
   "metadata": {},
   "outputs": [
    {
     "data": {
      "text/plain": [
       "array(['2', '3', '4', '5more'], dtype=object)"
      ]
     },
     "execution_count": 10,
     "metadata": {},
     "output_type": "execute_result"
    }
   ],
   "source": [
    "df['doors'].unique()"
   ]
  },
  {
   "cell_type": "code",
   "execution_count": 11,
   "id": "6b75b53d",
   "metadata": {},
   "outputs": [
    {
     "data": {
      "text/plain": [
       "array([2, 3, 4, 5], dtype=int64)"
      ]
     },
     "execution_count": 11,
     "metadata": {},
     "output_type": "execute_result"
    }
   ],
   "source": [
    "df['doors']=df['doors'].replace(['2', '3', '4', '5more'],[2,3,4,5])\n",
    "df['doors'].unique()"
   ]
  },
  {
   "cell_type": "code",
   "execution_count": 12,
   "id": "1cf99862",
   "metadata": {},
   "outputs": [
    {
     "data": {
      "text/plain": [
       "array(['2', '4', 'more'], dtype=object)"
      ]
     },
     "execution_count": 12,
     "metadata": {},
     "output_type": "execute_result"
    }
   ],
   "source": [
    "df['persons'].unique()"
   ]
  },
  {
   "cell_type": "code",
   "execution_count": 13,
   "id": "27200025",
   "metadata": {},
   "outputs": [
    {
     "data": {
      "text/plain": [
       "array([2, 4, 8], dtype=int64)"
      ]
     },
     "execution_count": 13,
     "metadata": {},
     "output_type": "execute_result"
    }
   ],
   "source": [
    "df['persons']=df['persons'].replace(['2', '4', 'more'],[2,4,8])\n",
    "df['persons'].unique()"
   ]
  },
  {
   "cell_type": "code",
   "execution_count": 14,
   "id": "febeab35",
   "metadata": {},
   "outputs": [
    {
     "data": {
      "text/plain": [
       "array(['small', 'med', 'big'], dtype=object)"
      ]
     },
     "execution_count": 14,
     "metadata": {},
     "output_type": "execute_result"
    }
   ],
   "source": [
    "df['luggage_boot'].unique()"
   ]
  },
  {
   "cell_type": "code",
   "execution_count": 15,
   "id": "a9ed9ef0",
   "metadata": {},
   "outputs": [
    {
     "data": {
      "text/plain": [
       "array([1, 2, 3], dtype=int64)"
      ]
     },
     "execution_count": 15,
     "metadata": {},
     "output_type": "execute_result"
    }
   ],
   "source": [
    "df['luggage_boot']=df['luggage_boot'].replace(['small', 'med', 'big'],[1,2,3])\n",
    "df['luggage_boot'].unique()#small=1,med=2,big=3"
   ]
  },
  {
   "cell_type": "code",
   "execution_count": 16,
   "id": "b06797af",
   "metadata": {},
   "outputs": [
    {
     "data": {
      "text/plain": [
       "array(['low', 'med', 'high'], dtype=object)"
      ]
     },
     "execution_count": 16,
     "metadata": {},
     "output_type": "execute_result"
    }
   ],
   "source": [
    "df['safety'].unique()"
   ]
  },
  {
   "cell_type": "code",
   "execution_count": 17,
   "id": "c1bec0ed",
   "metadata": {},
   "outputs": [
    {
     "data": {
      "text/plain": [
       "array([3, 2, 1], dtype=int64)"
      ]
     },
     "execution_count": 17,
     "metadata": {},
     "output_type": "execute_result"
    }
   ],
   "source": [
    "df['safety']=df['safety'].replace(['low', 'med', 'high'],[3,2,1])\n",
    "df['safety'].unique()#high=1,med=2,low=3"
   ]
  },
  {
   "cell_type": "code",
   "execution_count": 18,
   "id": "6ef52a6b",
   "metadata": {},
   "outputs": [
    {
     "data": {
      "text/plain": [
       "array(['unacc', 'acc', 'vgood', 'good'], dtype=object)"
      ]
     },
     "execution_count": 18,
     "metadata": {},
     "output_type": "execute_result"
    }
   ],
   "source": [
    "df['class'].unique()"
   ]
  },
  {
   "cell_type": "code",
   "execution_count": 19,
   "id": "70aa69b5",
   "metadata": {},
   "outputs": [
    {
     "data": {
      "text/plain": [
       "array([4, 3, 1, 2], dtype=int64)"
      ]
     },
     "execution_count": 19,
     "metadata": {},
     "output_type": "execute_result"
    }
   ],
   "source": [
    "df['class'] = df['class'].replace(['unacc', 'acc', 'vgood', 'good'], [4, 3, 1, 2])\n",
    "df['class'].unique()#vgood=1,good=2,acc=3,unacc=4"
   ]
  },
  {
   "cell_type": "code",
   "execution_count": 20,
   "id": "a3aeca3a",
   "metadata": {},
   "outputs": [
    {
     "data": {
      "text/html": [
       "<div>\n",
       "<style scoped>\n",
       "    .dataframe tbody tr th:only-of-type {\n",
       "        vertical-align: middle;\n",
       "    }\n",
       "\n",
       "    .dataframe tbody tr th {\n",
       "        vertical-align: top;\n",
       "    }\n",
       "\n",
       "    .dataframe thead th {\n",
       "        text-align: right;\n",
       "    }\n",
       "</style>\n",
       "<table border=\"1\" class=\"dataframe\">\n",
       "  <thead>\n",
       "    <tr style=\"text-align: right;\">\n",
       "      <th></th>\n",
       "      <th>buying</th>\n",
       "      <th>maintainance</th>\n",
       "      <th>doors</th>\n",
       "      <th>persons</th>\n",
       "      <th>luggage_boot</th>\n",
       "      <th>safety</th>\n",
       "      <th>class</th>\n",
       "    </tr>\n",
       "  </thead>\n",
       "  <tbody>\n",
       "    <tr>\n",
       "      <th>791</th>\n",
       "      <td>2</td>\n",
       "      <td>4</td>\n",
       "      <td>3</td>\n",
       "      <td>2</td>\n",
       "      <td>3</td>\n",
       "      <td>1</td>\n",
       "      <td>4</td>\n",
       "    </tr>\n",
       "    <tr>\n",
       "      <th>794</th>\n",
       "      <td>2</td>\n",
       "      <td>4</td>\n",
       "      <td>3</td>\n",
       "      <td>4</td>\n",
       "      <td>1</td>\n",
       "      <td>1</td>\n",
       "      <td>3</td>\n",
       "    </tr>\n",
       "    <tr>\n",
       "      <th>1501</th>\n",
       "      <td>4</td>\n",
       "      <td>2</td>\n",
       "      <td>5</td>\n",
       "      <td>4</td>\n",
       "      <td>3</td>\n",
       "      <td>2</td>\n",
       "      <td>3</td>\n",
       "    </tr>\n",
       "    <tr>\n",
       "      <th>870</th>\n",
       "      <td>3</td>\n",
       "      <td>1</td>\n",
       "      <td>2</td>\n",
       "      <td>2</td>\n",
       "      <td>3</td>\n",
       "      <td>3</td>\n",
       "      <td>4</td>\n",
       "    </tr>\n",
       "    <tr>\n",
       "      <th>776</th>\n",
       "      <td>2</td>\n",
       "      <td>4</td>\n",
       "      <td>2</td>\n",
       "      <td>8</td>\n",
       "      <td>1</td>\n",
       "      <td>1</td>\n",
       "      <td>4</td>\n",
       "    </tr>\n",
       "    <tr>\n",
       "      <th>604</th>\n",
       "      <td>2</td>\n",
       "      <td>2</td>\n",
       "      <td>4</td>\n",
       "      <td>4</td>\n",
       "      <td>1</td>\n",
       "      <td>2</td>\n",
       "      <td>4</td>\n",
       "    </tr>\n",
       "    <tr>\n",
       "      <th>268</th>\n",
       "      <td>1</td>\n",
       "      <td>3</td>\n",
       "      <td>3</td>\n",
       "      <td>8</td>\n",
       "      <td>3</td>\n",
       "      <td>2</td>\n",
       "      <td>3</td>\n",
       "    </tr>\n",
       "    <tr>\n",
       "      <th>1724</th>\n",
       "      <td>4</td>\n",
       "      <td>4</td>\n",
       "      <td>5</td>\n",
       "      <td>8</td>\n",
       "      <td>2</td>\n",
       "      <td>1</td>\n",
       "      <td>1</td>\n",
       "    </tr>\n",
       "    <tr>\n",
       "      <th>565</th>\n",
       "      <td>2</td>\n",
       "      <td>2</td>\n",
       "      <td>2</td>\n",
       "      <td>8</td>\n",
       "      <td>3</td>\n",
       "      <td>2</td>\n",
       "      <td>3</td>\n",
       "    </tr>\n",
       "    <tr>\n",
       "      <th>998</th>\n",
       "      <td>3</td>\n",
       "      <td>2</td>\n",
       "      <td>2</td>\n",
       "      <td>8</td>\n",
       "      <td>3</td>\n",
       "      <td>1</td>\n",
       "      <td>3</td>\n",
       "    </tr>\n",
       "  </tbody>\n",
       "</table>\n",
       "</div>"
      ],
      "text/plain": [
       "      buying  maintainance  doors  persons  luggage_boot  safety  class\n",
       "791        2             4      3        2             3       1      4\n",
       "794        2             4      3        4             1       1      3\n",
       "1501       4             2      5        4             3       2      3\n",
       "870        3             1      2        2             3       3      4\n",
       "776        2             4      2        8             1       1      4\n",
       "604        2             2      4        4             1       2      4\n",
       "268        1             3      3        8             3       2      3\n",
       "1724       4             4      5        8             2       1      1\n",
       "565        2             2      2        8             3       2      3\n",
       "998        3             2      2        8             3       1      3"
      ]
     },
     "execution_count": 20,
     "metadata": {},
     "output_type": "execute_result"
    }
   ],
   "source": [
    "df.sample(10)"
   ]
  },
  {
   "cell_type": "code",
   "execution_count": 21,
   "id": "ba9d5f8a",
   "metadata": {},
   "outputs": [
    {
     "data": {
      "text/plain": [
       "buying          0\n",
       "maintainance    0\n",
       "doors           0\n",
       "persons         0\n",
       "luggage_boot    0\n",
       "safety          0\n",
       "class           0\n",
       "dtype: int64"
      ]
     },
     "execution_count": 21,
     "metadata": {},
     "output_type": "execute_result"
    }
   ],
   "source": [
    "df.isnull().sum()"
   ]
  },
  {
   "cell_type": "code",
   "execution_count": 22,
   "id": "95d1f4e5",
   "metadata": {},
   "outputs": [
    {
     "data": {
      "text/plain": [
       "buying          int64\n",
       "maintainance    int64\n",
       "doors           int64\n",
       "persons         int64\n",
       "luggage_boot    int64\n",
       "safety          int64\n",
       "class           int64\n",
       "dtype: object"
      ]
     },
     "execution_count": 22,
     "metadata": {},
     "output_type": "execute_result"
    }
   ],
   "source": [
    "df.dtypes"
   ]
  },
  {
   "cell_type": "code",
   "execution_count": 23,
   "id": "ae0a1de2",
   "metadata": {},
   "outputs": [
    {
     "data": {
      "text/html": [
       "<div>\n",
       "<style scoped>\n",
       "    .dataframe tbody tr th:only-of-type {\n",
       "        vertical-align: middle;\n",
       "    }\n",
       "\n",
       "    .dataframe tbody tr th {\n",
       "        vertical-align: top;\n",
       "    }\n",
       "\n",
       "    .dataframe thead th {\n",
       "        text-align: right;\n",
       "    }\n",
       "</style>\n",
       "<table border=\"1\" class=\"dataframe\">\n",
       "  <thead>\n",
       "    <tr style=\"text-align: right;\">\n",
       "      <th></th>\n",
       "      <th>buying</th>\n",
       "      <th>maintainance</th>\n",
       "      <th>doors</th>\n",
       "      <th>persons</th>\n",
       "      <th>luggage_boot</th>\n",
       "      <th>safety</th>\n",
       "      <th>class</th>\n",
       "    </tr>\n",
       "  </thead>\n",
       "  <tbody>\n",
       "    <tr>\n",
       "      <th>count</th>\n",
       "      <td>1728.000000</td>\n",
       "      <td>1728.000000</td>\n",
       "      <td>1728.000000</td>\n",
       "      <td>1728.000000</td>\n",
       "      <td>1728.000000</td>\n",
       "      <td>1728.000000</td>\n",
       "      <td>1728.000000</td>\n",
       "    </tr>\n",
       "    <tr>\n",
       "      <th>mean</th>\n",
       "      <td>2.500000</td>\n",
       "      <td>2.500000</td>\n",
       "      <td>3.500000</td>\n",
       "      <td>4.666667</td>\n",
       "      <td>2.000000</td>\n",
       "      <td>2.000000</td>\n",
       "      <td>3.585069</td>\n",
       "    </tr>\n",
       "    <tr>\n",
       "      <th>std</th>\n",
       "      <td>1.118358</td>\n",
       "      <td>1.118358</td>\n",
       "      <td>1.118358</td>\n",
       "      <td>2.495160</td>\n",
       "      <td>0.816733</td>\n",
       "      <td>0.816733</td>\n",
       "      <td>0.740700</td>\n",
       "    </tr>\n",
       "    <tr>\n",
       "      <th>min</th>\n",
       "      <td>1.000000</td>\n",
       "      <td>1.000000</td>\n",
       "      <td>2.000000</td>\n",
       "      <td>2.000000</td>\n",
       "      <td>1.000000</td>\n",
       "      <td>1.000000</td>\n",
       "      <td>1.000000</td>\n",
       "    </tr>\n",
       "    <tr>\n",
       "      <th>25%</th>\n",
       "      <td>1.750000</td>\n",
       "      <td>1.750000</td>\n",
       "      <td>2.750000</td>\n",
       "      <td>2.000000</td>\n",
       "      <td>1.000000</td>\n",
       "      <td>1.000000</td>\n",
       "      <td>3.000000</td>\n",
       "    </tr>\n",
       "    <tr>\n",
       "      <th>50%</th>\n",
       "      <td>2.500000</td>\n",
       "      <td>2.500000</td>\n",
       "      <td>3.500000</td>\n",
       "      <td>4.000000</td>\n",
       "      <td>2.000000</td>\n",
       "      <td>2.000000</td>\n",
       "      <td>4.000000</td>\n",
       "    </tr>\n",
       "    <tr>\n",
       "      <th>75%</th>\n",
       "      <td>3.250000</td>\n",
       "      <td>3.250000</td>\n",
       "      <td>4.250000</td>\n",
       "      <td>8.000000</td>\n",
       "      <td>3.000000</td>\n",
       "      <td>3.000000</td>\n",
       "      <td>4.000000</td>\n",
       "    </tr>\n",
       "    <tr>\n",
       "      <th>max</th>\n",
       "      <td>4.000000</td>\n",
       "      <td>4.000000</td>\n",
       "      <td>5.000000</td>\n",
       "      <td>8.000000</td>\n",
       "      <td>3.000000</td>\n",
       "      <td>3.000000</td>\n",
       "      <td>4.000000</td>\n",
       "    </tr>\n",
       "  </tbody>\n",
       "</table>\n",
       "</div>"
      ],
      "text/plain": [
       "            buying  maintainance        doors      persons  luggage_boot  \\\n",
       "count  1728.000000   1728.000000  1728.000000  1728.000000   1728.000000   \n",
       "mean      2.500000      2.500000     3.500000     4.666667      2.000000   \n",
       "std       1.118358      1.118358     1.118358     2.495160      0.816733   \n",
       "min       1.000000      1.000000     2.000000     2.000000      1.000000   \n",
       "25%       1.750000      1.750000     2.750000     2.000000      1.000000   \n",
       "50%       2.500000      2.500000     3.500000     4.000000      2.000000   \n",
       "75%       3.250000      3.250000     4.250000     8.000000      3.000000   \n",
       "max       4.000000      4.000000     5.000000     8.000000      3.000000   \n",
       "\n",
       "            safety        class  \n",
       "count  1728.000000  1728.000000  \n",
       "mean      2.000000     3.585069  \n",
       "std       0.816733     0.740700  \n",
       "min       1.000000     1.000000  \n",
       "25%       1.000000     3.000000  \n",
       "50%       2.000000     4.000000  \n",
       "75%       3.000000     4.000000  \n",
       "max       3.000000     4.000000  "
      ]
     },
     "execution_count": 23,
     "metadata": {},
     "output_type": "execute_result"
    }
   ],
   "source": [
    "df.describe()"
   ]
  },
  {
   "cell_type": "code",
   "execution_count": 24,
   "id": "b8ebb6e9",
   "metadata": {},
   "outputs": [
    {
     "data": {
      "image/png": "[encoded data removed]",
      "text/plain": [
       "<Figure size 800x400 with 2 Axes>"
      ]
     },
     "metadata": {},
     "output_type": "display_data"
    }
   ],
   "source": [
    "#check correltion matrix - to check the strength of variation bwtween variables\n",
    "correlation_matrix= df.corr().round(2)\n",
    "fgr, ax = plt.subplots(figsize =(8, 4)) \n",
    "import seaborn as sns\n",
    "c = sns.heatmap(data=correlation_matrix, annot=True)\n",
    "fgr.savefig(\"myimage.png\")"
   ]
  },
  {
   "cell_type": "code",
   "execution_count": 25,
   "id": "64ab39d6",
   "metadata": {},
   "outputs": [],
   "source": [
    "#Separating features and response\n",
    "X= df.drop(['class'],axis='columns')\n",
    "y =df[\"class\"]\n"
   ]
  },
  {
   "cell_type": "code",
   "execution_count": 26,
   "id": "56688cb4",
   "metadata": {},
   "outputs": [
    {
     "data": {
      "text/html": [
       "<div>\n",
       "<style scoped>\n",
       "    .dataframe tbody tr th:only-of-type {\n",
       "        vertical-align: middle;\n",
       "    }\n",
       "\n",
       "    .dataframe tbody tr th {\n",
       "        vertical-align: top;\n",
       "    }\n",
       "\n",
       "    .dataframe thead th {\n",
       "        text-align: right;\n",
       "    }\n",
       "</style>\n",
       "<table border=\"1\" class=\"dataframe\">\n",
       "  <thead>\n",
       "    <tr style=\"text-align: right;\">\n",
       "      <th></th>\n",
       "      <th>buying</th>\n",
       "      <th>maintainance</th>\n",
       "      <th>doors</th>\n",
       "      <th>persons</th>\n",
       "      <th>luggage_boot</th>\n",
       "      <th>safety</th>\n",
       "    </tr>\n",
       "  </thead>\n",
       "  <tbody>\n",
       "    <tr>\n",
       "      <th>0</th>\n",
       "      <td>1</td>\n",
       "      <td>1</td>\n",
       "      <td>2</td>\n",
       "      <td>2</td>\n",
       "      <td>1</td>\n",
       "      <td>3</td>\n",
       "    </tr>\n",
       "    <tr>\n",
       "      <th>1</th>\n",
       "      <td>1</td>\n",
       "      <td>1</td>\n",
       "      <td>2</td>\n",
       "      <td>2</td>\n",
       "      <td>1</td>\n",
       "      <td>2</td>\n",
       "    </tr>\n",
       "    <tr>\n",
       "      <th>2</th>\n",
       "      <td>1</td>\n",
       "      <td>1</td>\n",
       "      <td>2</td>\n",
       "      <td>2</td>\n",
       "      <td>1</td>\n",
       "      <td>1</td>\n",
       "    </tr>\n",
       "    <tr>\n",
       "      <th>3</th>\n",
       "      <td>1</td>\n",
       "      <td>1</td>\n",
       "      <td>2</td>\n",
       "      <td>2</td>\n",
       "      <td>2</td>\n",
       "      <td>3</td>\n",
       "    </tr>\n",
       "    <tr>\n",
       "      <th>4</th>\n",
       "      <td>1</td>\n",
       "      <td>1</td>\n",
       "      <td>2</td>\n",
       "      <td>2</td>\n",
       "      <td>2</td>\n",
       "      <td>2</td>\n",
       "    </tr>\n",
       "    <tr>\n",
       "      <th>...</th>\n",
       "      <td>...</td>\n",
       "      <td>...</td>\n",
       "      <td>...</td>\n",
       "      <td>...</td>\n",
       "      <td>...</td>\n",
       "      <td>...</td>\n",
       "    </tr>\n",
       "    <tr>\n",
       "      <th>1723</th>\n",
       "      <td>4</td>\n",
       "      <td>4</td>\n",
       "      <td>5</td>\n",
       "      <td>8</td>\n",
       "      <td>2</td>\n",
       "      <td>2</td>\n",
       "    </tr>\n",
       "    <tr>\n",
       "      <th>1724</th>\n",
       "      <td>4</td>\n",
       "      <td>4</td>\n",
       "      <td>5</td>\n",
       "      <td>8</td>\n",
       "      <td>2</td>\n",
       "      <td>1</td>\n",
       "    </tr>\n",
       "    <tr>\n",
       "      <th>1725</th>\n",
       "      <td>4</td>\n",
       "      <td>4</td>\n",
       "      <td>5</td>\n",
       "      <td>8</td>\n",
       "      <td>3</td>\n",
       "      <td>3</td>\n",
       "    </tr>\n",
       "    <tr>\n",
       "      <th>1726</th>\n",
       "      <td>4</td>\n",
       "      <td>4</td>\n",
       "      <td>5</td>\n",
       "      <td>8</td>\n",
       "      <td>3</td>\n",
       "      <td>2</td>\n",
       "    </tr>\n",
       "    <tr>\n",
       "      <th>1727</th>\n",
       "      <td>4</td>\n",
       "      <td>4</td>\n",
       "      <td>5</td>\n",
       "      <td>8</td>\n",
       "      <td>3</td>\n",
       "      <td>1</td>\n",
       "    </tr>\n",
       "  </tbody>\n",
       "</table>\n",
       "<p>1728 rows × 6 columns</p>\n",
       "</div>"
      ],
      "text/plain": [
       "      buying  maintainance  doors  persons  luggage_boot  safety\n",
       "0          1             1      2        2             1       3\n",
       "1          1             1      2        2             1       2\n",
       "2          1             1      2        2             1       1\n",
       "3          1             1      2        2             2       3\n",
       "4          1             1      2        2             2       2\n",
       "...      ...           ...    ...      ...           ...     ...\n",
       "1723       4             4      5        8             2       2\n",
       "1724       4             4      5        8             2       1\n",
       "1725       4             4      5        8             3       3\n",
       "1726       4             4      5        8             3       2\n",
       "1727       4             4      5        8             3       1\n",
       "\n",
       "[1728 rows x 6 columns]"
      ]
     },
     "execution_count": 26,
     "metadata": {},
     "output_type": "execute_result"
    }
   ],
   "source": [
    "X"
   ]
  },
  {
   "cell_type": "code",
   "execution_count": 27,
   "id": "f269b4fd",
   "metadata": {},
   "outputs": [
    {
     "data": {
      "text/plain": [
       "0       4\n",
       "1       4\n",
       "2       4\n",
       "3       4\n",
       "4       4\n",
       "       ..\n",
       "1723    2\n",
       "1724    1\n",
       "1725    4\n",
       "1726    2\n",
       "1727    1\n",
       "Name: class, Length: 1728, dtype: int64"
      ]
     },
     "execution_count": 27,
     "metadata": {},
     "output_type": "execute_result"
    }
   ],
   "source": [
    "y"
   ]
  },
  {
   "cell_type": "code",
   "execution_count": 28,
   "id": "c290463d",
   "metadata": {},
   "outputs": [],
   "source": [
    "#Dividing data in test and train\n",
    "from sklearn.model_selection import train_test_split\n",
    "X_train, X_test, y_train, y_test = train_test_split(X, y, test_size=0.1, random_state=0)"
   ]
  },
  {
   "cell_type": "code",
   "execution_count": 29,
   "id": "a35c4d8e",
   "metadata": {},
   "outputs": [
    {
     "data": {
      "text/plain": [
       "((1555, 6), (173, 6), (1555,), (173,))"
      ]
     },
     "execution_count": 29,
     "metadata": {},
     "output_type": "execute_result"
    }
   ],
   "source": [
    "X_train.shape, X_test.shape, y_train.shape, y_test.shape"
   ]
  },
  {
   "cell_type": "code",
   "execution_count": 30,
   "id": "9be669b6",
   "metadata": {},
   "outputs": [],
   "source": [
    "from sklearn.preprocessing import StandardScaler\n",
    "scaler = StandardScaler()\n",
    "X_train = scaler.fit_transform(X_train)\n",
    "X_test = scaler.transform(X_test)"
   ]
  },
  {
   "cell_type": "code",
   "execution_count": 31,
   "id": "d1c4737b",
   "metadata": {},
   "outputs": [],
   "source": [
    "# Decalare some array /list for storing outcome \n",
    "scores = []\n",
    "model = []\n",
    "mae = []\n",
    "mse = []\n",
    "rmse = []"
   ]
  },
  {
   "cell_type": "code",
   "execution_count": 32,
   "id": "c5a80132",
   "metadata": {},
   "outputs": [],
   "source": [
    "from sklearn.metrics import confusion_matrix\n",
    "from sklearn.metrics import classification_report\n",
    "#performance metrics\n",
    "from sklearn import metrics\n",
    "from sklearn.metrics import accuracy_score, roc_auc_score"
   ]
  },
  {
   "cell_type": "code",
   "execution_count": 33,
   "id": "7ec4bbdd",
   "metadata": {},
   "outputs": [
    {
     "name": "stdout",
     "output_type": "stream",
     "text": [
      "confusion matrix\n",
      " [[  3   0   1   0]\n",
      " [  3   4   0   0]\n",
      " [  0   2  39   1]\n",
      " [  0   0   4 116]] \n",
      "\n",
      "Mean Absolute Error: 0.06936416184971098\n",
      "Mean Squared Error: 0.08092485549132948\n",
      "Root Mean Squared Error: 0.2844729433379025 \n",
      "\n",
      "              precision    recall  f1-score   support\n",
      "\n",
      "           1       0.50      0.75      0.60         4\n",
      "           2       0.67      0.57      0.62         7\n",
      "           3       0.89      0.93      0.91        42\n",
      "           4       0.99      0.97      0.98       120\n",
      "\n",
      "    accuracy                           0.94       173\n",
      "   macro avg       0.76      0.80      0.78       173\n",
      "weighted avg       0.94      0.94      0.94       173\n",
      "\n",
      "Accuracy: 0.9364161849710982\n"
     ]
    }
   ],
   "source": [
    "\n",
    "# import classifier\n",
    "\n",
    "from sklearn.ensemble import RandomForestClassifier\n",
    "\n",
    "# initialize the Regressor\n",
    "RFR = RandomForestClassifier()\n",
    "\n",
    "#fit the regressor to the data\n",
    "RFR.fit(X_train,y_train)\n",
    "\n",
    "#use the resulting model to predict value on the test sey\n",
    "y_pred = RFR.predict(X_test)\n",
    "accuracy = RFR.score(X_test,y_test)\n",
    "\n",
    "\n",
    "\n",
    "print('confusion matrix\\n',confusion_matrix(y_test, y_pred), '\\n')\n",
    "print('Mean Absolute Error:', metrics.mean_absolute_error(y_test, y_pred))\n",
    "print('Mean Squared Error:', metrics.mean_squared_error(y_test, y_pred))\n",
    "print('Root Mean Squared Error:', np.sqrt(metrics.mean_squared_error(y_test, y_pred)), '\\n')\n",
    "\n",
    "print(classification_report(y_test, y_pred))\n",
    "print(\"Accuracy:\", accuracy)\n",
    "\n",
    "\n",
    "model = np.append(model,\"RandomForestClassifier\")\n",
    "sc2 = round(accuracy_score(y_test, y_pred),2)\n",
    "scores = np.append(scores,sc2)\n",
    "mae2 = metrics.mean_absolute_error(y_test, y_pred)\n",
    "mae = np.append(mae,mae2)\n",
    "mse2 = metrics.mean_squared_error(y_test, y_pred)\n",
    "mse = np.append(mse,mse2)\n",
    "rmse2 = np.sqrt(metrics.mean_squared_error(y_test, y_pred))\n",
    "rmse = np.append(rmse,rmse2)"
   ]
  },
  {
   "cell_type": "code",
   "execution_count": 34,
   "id": "c3c39ea0",
   "metadata": {},
   "outputs": [
    {
     "data": {
      "text/plain": [
       "Text(0.5, 1.0, 'Confusion matrix of Random Forest Classifier')"
      ]
     },
     "execution_count": 34,
     "metadata": {},
     "output_type": "execute_result"
    },
    {
     "data": {
      "image/png": "[encoded data removed]",
      "text/plain": [
       "<Figure size 1000x700 with 2 Axes>"
      ]
     },
     "metadata": {},
     "output_type": "display_data"
    }
   ],
   "source": [
    "cm = confusion_matrix(y_test,y_pred)\n",
    "plt.figure(figsize=(10,7))\n",
    "sn.heatmap(cm, annot=True)\n",
    "plt.xlabel('Predicted')\n",
    "plt.ylabel('Truth')\n",
    "plt.title('Confusion matrix of Random Forest Classifier')"
   ]
  },
  {
   "cell_type": "code",
   "execution_count": 35,
   "id": "bdea6cef",
   "metadata": {},
   "outputs": [
    {
     "name": "stdout",
     "output_type": "stream",
     "text": [
      "confusion matrix\n",
      " [[  3   0   1   0]\n",
      " [  0   6   1   0]\n",
      " [  0   3  37   2]\n",
      " [  0   0   1 119]] \n",
      "\n",
      "Mean Absolute Error: 0.05202312138728324\n",
      "Mean Squared Error: 0.06358381502890173\n",
      "Root Mean Squared Error: 0.2521583134241299 \n",
      "\n",
      "              precision    recall  f1-score   support\n",
      "\n",
      "           1       1.00      0.75      0.86         4\n",
      "           2       0.67      0.86      0.75         7\n",
      "           3       0.93      0.88      0.90        42\n",
      "           4       0.98      0.99      0.99       120\n",
      "\n",
      "    accuracy                           0.95       173\n",
      "   macro avg       0.89      0.87      0.87       173\n",
      "weighted avg       0.96      0.95      0.95       173\n",
      "\n",
      "Accuracy: 0.953757225433526\n"
     ]
    }
   ],
   "source": [
    "# import classifier\n",
    "from sklearn.tree import DecisionTreeClassifier\n",
    "\n",
    "# initialize the Regressor\n",
    "DTC = DecisionTreeClassifier()\n",
    "\n",
    "#fit the regressor to the data\n",
    "DTC.fit(X_train,y_train)\n",
    "\n",
    "#use the resulting model to predict value on the test sey\n",
    "y_pred = DTC.predict(X_test)\n",
    "accuracy = DTC.score(X_test,y_test)\n",
    "\n",
    "print('confusion matrix\\n',confusion_matrix(y_test, y_pred), '\\n')\n",
    "print('Mean Absolute Error:', metrics.mean_absolute_error(y_test, y_pred))\n",
    "print('Mean Squared Error:', metrics.mean_squared_error(y_test, y_pred))\n",
    "print('Root Mean Squared Error:', np.sqrt(metrics.mean_squared_error(y_test, y_pred)), '\\n')\n",
    "\n",
    "print(classification_report(y_test, y_pred))\n",
    "print(\"Accuracy:\", accuracy)\n",
    "\n",
    "\n",
    "model = np.append(model,\"DecisionTreeClassifier\")\n",
    "sc2 = round(accuracy_score(y_test, y_pred),2)\n",
    "scores = np.append(scores,sc2)\n",
    "mae2 = metrics.mean_absolute_error(y_test, y_pred)\n",
    "mae = np.append(mae,mae2)\n",
    "mse2 = metrics.mean_squared_error(y_test, y_pred)\n",
    "mse = np.append(mse,mse2)\n",
    "rmse2 = np.sqrt(metrics.mean_squared_error(y_test, y_pred))\n",
    "rmse = np.append(rmse,rmse2)"
   ]
  },
  {
   "cell_type": "code",
   "execution_count": 36,
   "id": "399da74d",
   "metadata": {},
   "outputs": [
    {
     "data": {
      "text/plain": [
       "Text(0.5, 1.0, 'Confusion matrix of Decision Tree Classifier')"
      ]
     },
     "execution_count": 36,
     "metadata": {},
     "output_type": "execute_result"
    },
    {
     "data": {
      "image/png": "[encoded data removed]",
      "text/plain": [
       "<Figure size 1000x700 with 2 Axes>"
      ]
     },
     "metadata": {},
     "output_type": "display_data"
    }
   ],
   "source": [
    "cm = confusion_matrix(y_test,y_pred)\n",
    "plt.figure(figsize=(10,7))\n",
    "sn.heatmap(cm, annot=True)\n",
    "plt.xlabel('Predicted')\n",
    "plt.ylabel('Truth')\n",
    "plt.title('Confusion matrix of Decision Tree Classifier')"
   ]
  },
  {
   "cell_type": "code",
   "execution_count": 37,
   "id": "5a4b95d1",
   "metadata": {},
   "outputs": [
    {
     "name": "stdout",
     "output_type": "stream",
     "text": [
      "Confusion matrix\n",
      " [[  3   0   1   0]\n",
      " [  0   7   0   0]\n",
      " [  0   2  40   0]\n",
      " [  0   0   2 118]] \n",
      "\n",
      "Mean Absolute Error: 0.03468208092485549\n",
      "Mean Squared Error: 0.046242774566473986\n",
      "Root Mean Squared Error: 0.21504133222818814 \n",
      "\n",
      "              precision    recall  f1-score   support\n",
      "\n",
      "           1       1.00      0.75      0.86         4\n",
      "           2       0.78      1.00      0.88         7\n",
      "           3       0.93      0.95      0.94        42\n",
      "           4       1.00      0.98      0.99       120\n",
      "\n",
      "    accuracy                           0.97       173\n",
      "   macro avg       0.93      0.92      0.92       173\n",
      "weighted avg       0.97      0.97      0.97       173\n",
      "\n",
      "Accuracy: 0.9710982658959537\n"
     ]
    }
   ],
   "source": [
    "# import classifier\n",
    "from sklearn.ensemble import BaggingClassifier\n",
    "# initialize the Regressor\n",
    "bag_model = BaggingClassifier(\n",
    "    n_estimators = 100,\n",
    "    max_samples = 0.8,\n",
    "    random_state=0\n",
    ")\n",
    "#fit the regressor to the data\n",
    "\n",
    "bag_model.fit(X_train,y_train)\n",
    "y_pred = bag_model.predict(X_test)\n",
    "accuracy = bag_model.score(X_test,y_test)\n",
    "\n",
    "print('Confusion matrix\\n',confusion_matrix(y_test, y_pred), '\\n')\n",
    "print('Mean Absolute Error:', metrics.mean_absolute_error(y_test, y_pred))\n",
    "print('Mean Squared Error:', metrics.mean_squared_error(y_test, y_pred))\n",
    "print('Root Mean Squared Error:', np.sqrt(metrics.mean_squared_error(y_test, y_pred)), '\\n')\n",
    "\n",
    "print(classification_report(y_test, y_pred))\n",
    "print(\"Accuracy:\", accuracy)\n",
    "\n",
    "model = np.append(model,\"BaggingClassifier\")\n",
    "sc2 = round(accuracy_score(y_test, y_pred),2)\n",
    "scores = np.append(scores,sc2)\n",
    "mae2 = metrics.mean_absolute_error(y_test, y_pred)\n",
    "mae = np.append(mae,mae2)\n",
    "mse2 = metrics.mean_squared_error(y_test, y_pred)\n",
    "mse = np.append(mse,mse2)\n",
    "rmse2 = np.sqrt(metrics.mean_squared_error(y_test, y_pred))\n",
    "rmse = np.append(rmse,rmse2)\n"
   ]
  },
  {
   "cell_type": "code",
   "execution_count": 38,
   "id": "170fd9dc",
   "metadata": {},
   "outputs": [
    {
     "data": {
      "text/plain": [
       "Text(0.5, 1.0, 'Confusion matrix of Bagging Classifier')"
      ]
     },
     "execution_count": 38,
     "metadata": {},
     "output_type": "execute_result"
    },
    {
     "data": {
      "image/png": "[encoded data removed]",
      "text/plain": [
       "<Figure size 1000x700 with 2 Axes>"
      ]
     },
     "metadata": {},
     "output_type": "display_data"
    }
   ],
   "source": [
    "cm = confusion_matrix(y_test,y_pred)\n",
    "plt.figure(figsize=(10,7))\n",
    "sn.heatmap(cm, annot=True)\n",
    "plt.xlabel('Predicted')\n",
    "plt.ylabel('Truth')\n",
    "plt.title('Confusion matrix of Bagging Classifier')"
   ]
  },
  {
   "cell_type": "code",
   "execution_count": 39,
   "id": "98f2a72e",
   "metadata": {},
   "outputs": [
    {
     "data": {
      "image/png": "[encoded data removed]",
      "text/plain": [
       "<Figure size 650x450 with 1 Axes>"
      ]
     },
     "metadata": {},
     "output_type": "display_data"
    }
   ],
   "source": [
    "# bar plot\n",
    "\n",
    "\n",
    "plt.rcParams[\"figure.figsize\"] = [6.50, 4.50]\n",
    "plt.rcParams[\"figure.autolayout\"] = True\n",
    "\n",
    "x = np.array(scores*100)\n",
    "y = np.array(model)\n",
    "plt.xlabel(\"Accuracy(%)\")\n",
    "plt.ylabel(\"Classification Models\")\n",
    "plt.title(\"Bar graph for Accuracy(%) per classification model\")\n",
    "plt.barh(y, x, color=\"green\")\n",
    "for index, value in enumerate(x):\n",
    "    plt.text(value, index,\n",
    "             str(value))\n",
    "\n",
    "    \n",
    "plt.show()"
   ]
  },
  {
   "cell_type": "code",
   "execution_count": 40,
   "id": "4dc72738",
   "metadata": {},
   "outputs": [
    {
     "data": {
      "image/png": "[encoded data removed]",
      "text/plain": [
       "<Figure size 550x450 with 1 Axes>"
      ]
     },
     "metadata": {},
     "output_type": "display_data"
    }
   ],
   "source": [
    "#line plot\n",
    "\n",
    "\n",
    "plt.rcParams[\"figure.figsize\"] = [5.50, 4.50]\n",
    "plt.rcParams[\"figure.autolayout\"] = True\n",
    "\n",
    "x = np.array(scores*100)\n",
    "y = np.array(model)\n",
    "plt.xlabel(\"Accuracy(%)\")\n",
    "plt.ylabel(\"Classification Models\")\n",
    "plt.title(\"Line graph for Accuarcy(%) per classification model\")\n",
    "plt.plot(x, y, label ='accuracy')\n",
    "for index, value in enumerate(x):\n",
    "    plt.text(value, index,\n",
    "             str(value))\n",
    "\n",
    "plt.show()"
   ]
  },
  {
   "cell_type": "code",
   "execution_count": 41,
   "id": "f2492caf",
   "metadata": {},
   "outputs": [
    {
     "data": {
      "image/png": "[encoded data removed]",
      "text/plain": [
       "<Figure size 550x450 with 1 Axes>"
      ]
     },
     "metadata": {},
     "output_type": "display_data"
    }
   ],
   "source": [
    "#line \n",
    "\n",
    "\n",
    "x = np.array(model)\n",
    "y1 = np.array(mae)\n",
    "y2 = np.array(mse)\n",
    "y3 = np .array(rmse)\n",
    "\n",
    "plt.plot(y1, x, label ='MAE')\n",
    "plt.plot(y2,x, '-.', label ='MSE')\n",
    "plt.plot(y3,x, '--.', label ='RMSE')\n",
    "\n",
    "plt.xlabel(\"Error\")\n",
    "plt.ylabel(\"Classfication Model\")\n",
    "plt.legend()\n",
    "plt.title('Line graph for error per classification model')\n",
    "plt.show()"
   ]
  },
  {
   "cell_type": "code",
   "execution_count": 43,
   "id": "63624a0e",
   "metadata": {},
   "outputs": [
    {
     "data": {
      "image/png": "[encoded data removed]",
      "text/plain": [
       "<Figure size 550x450 with 1 Axes>"
      ]
     },
     "metadata": {},
     "output_type": "display_data"
    },
    {
     "data": {
      "text/plain": [
       "<Figure size 1000x600 with 0 Axes>"
      ]
     },
     "metadata": {},
     "output_type": "display_data"
    }
   ],
   "source": [
    "# bar\n",
    "\n",
    "N = 3\n",
    "ind = np.arange(N) #arange\n",
    "width = 0.25\n",
    "x = np.array(model)\n",
    "y1 = np.array(mae)\n",
    "y2 = np.array(mse)\n",
    "y3 = np .array(rmse)\n",
    "\n",
    "bar1 = plt.barh(ind, y1, width, color = 'r')\n",
    "  \n",
    "bar2 = plt.barh(ind+width, y2, width, color='g')\n",
    "  \n",
    "bar3 = plt.barh(ind+width*2, y3, width, color = 'b')\n",
    "  \n",
    "plt.xlabel(\"Error\")\n",
    "plt.ylabel('Classsification Models')\n",
    "plt.title(\"Bar grap for error per classification models\")\n",
    "  \n",
    "plt.yticks(ind+width,x)\n",
    "plt.legend( (bar1, bar2, bar3), ('MAE', 'MSE', 'RMSE') )\n",
    "plt.figure(figsize=(10,6))\n",
    "\n",
    "plt.show()"
   ]
  },
  {
   "cell_type": "code",
   "execution_count": null,
   "id": "db552da6",
   "metadata": {},
   "outputs": [],
   "source": [
    "import pickle\n",
    "pickle.dump(model, open('model.pkl','wb'))\n",
    "\n",
    "model = pickle.load(open('model.pkl','rb'))\n",
    "print(model.predict([[24, 30000]]))"
   ]
  }
 ],
 "metadata": {
  "kernelspec": {
   "display_name": "Python 3 (ipykernel)",
   "language": "python",
   "name": "python3"
  },
  "language_info": {
   "codemirror_mode": {
    "name": "ipython",
    "version": 3
   },
   "file_extension": ".py",
   "mimetype": "text/x-python",
   "name": "python",
   "nbconvert_exporter": "python",
   "pygments_lexer": "ipython3",
   "version": "3.9.13"
  }
 },
 "nbformat": 4,
 "nbformat_minor": 5
}
