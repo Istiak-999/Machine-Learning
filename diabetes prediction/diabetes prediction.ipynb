{
 "cells": [
  {
   "cell_type": "code",
   "execution_count": 1,
   "id": "a7a127d6",
   "metadata": {},
   "outputs": [],
   "source": [
    "import pandas as  pd\n",
    "import numpy as np\n",
    "import seaborn as sn\n",
    "import matplotlib.pyplot as plt\n",
    "%matplotlib inline"
   ]
  },
  {
   "cell_type": "code",
   "execution_count": 2,
   "id": "a26f3af6",
   "metadata": {},
   "outputs": [
    {
     "data": {
      "text/html": [
       "<div>\n",
       "<style scoped>\n",
       "    .dataframe tbody tr th:only-of-type {\n",
       "        vertical-align: middle;\n",
       "    }\n",
       "\n",
       "    .dataframe tbody tr th {\n",
       "        vertical-align: top;\n",
       "    }\n",
       "\n",
       "    .dataframe thead th {\n",
       "        text-align: right;\n",
       "    }\n",
       "</style>\n",
       "<table border=\"1\" class=\"dataframe\">\n",
       "  <thead>\n",
       "    <tr style=\"text-align: right;\">\n",
       "      <th></th>\n",
       "      <th>Pregnancies</th>\n",
       "      <th>Glucose</th>\n",
       "      <th>BloodPressure</th>\n",
       "      <th>SkinThickness</th>\n",
       "      <th>Insulin</th>\n",
       "      <th>BMI</th>\n",
       "      <th>DiabetesPedigreeFunction</th>\n",
       "      <th>Age</th>\n",
       "      <th>Outcome</th>\n",
       "    </tr>\n",
       "  </thead>\n",
       "  <tbody>\n",
       "    <tr>\n",
       "      <th>424</th>\n",
       "      <td>8</td>\n",
       "      <td>151</td>\n",
       "      <td>78.0</td>\n",
       "      <td>32</td>\n",
       "      <td>210</td>\n",
       "      <td>42.9</td>\n",
       "      <td>0.516</td>\n",
       "      <td>36</td>\n",
       "      <td>1</td>\n",
       "    </tr>\n",
       "    <tr>\n",
       "      <th>235</th>\n",
       "      <td>4</td>\n",
       "      <td>171</td>\n",
       "      <td>72.0</td>\n",
       "      <td>0</td>\n",
       "      <td>0</td>\n",
       "      <td>43.6</td>\n",
       "      <td>0.479</td>\n",
       "      <td>26</td>\n",
       "      <td>1</td>\n",
       "    </tr>\n",
       "    <tr>\n",
       "      <th>731</th>\n",
       "      <td>8</td>\n",
       "      <td>120</td>\n",
       "      <td>86.0</td>\n",
       "      <td>0</td>\n",
       "      <td>0</td>\n",
       "      <td>28.4</td>\n",
       "      <td>0.259</td>\n",
       "      <td>22</td>\n",
       "      <td>1</td>\n",
       "    </tr>\n",
       "    <tr>\n",
       "      <th>609</th>\n",
       "      <td>1</td>\n",
       "      <td>111</td>\n",
       "      <td>62.0</td>\n",
       "      <td>13</td>\n",
       "      <td>182</td>\n",
       "      <td>24.0</td>\n",
       "      <td>0.138</td>\n",
       "      <td>23</td>\n",
       "      <td>0</td>\n",
       "    </tr>\n",
       "    <tr>\n",
       "      <th>682</th>\n",
       "      <td>0</td>\n",
       "      <td>95</td>\n",
       "      <td>64.0</td>\n",
       "      <td>39</td>\n",
       "      <td>105</td>\n",
       "      <td>44.6</td>\n",
       "      <td>0.366</td>\n",
       "      <td>22</td>\n",
       "      <td>0</td>\n",
       "    </tr>\n",
       "    <tr>\n",
       "      <th>389</th>\n",
       "      <td>3</td>\n",
       "      <td>100</td>\n",
       "      <td>68.0</td>\n",
       "      <td>23</td>\n",
       "      <td>81</td>\n",
       "      <td>31.6</td>\n",
       "      <td>0.949</td>\n",
       "      <td>28</td>\n",
       "      <td>0</td>\n",
       "    </tr>\n",
       "    <tr>\n",
       "      <th>122</th>\n",
       "      <td>2</td>\n",
       "      <td>107</td>\n",
       "      <td>74.0</td>\n",
       "      <td>30</td>\n",
       "      <td>100</td>\n",
       "      <td>33.6</td>\n",
       "      <td>0.404</td>\n",
       "      <td>23</td>\n",
       "      <td>0</td>\n",
       "    </tr>\n",
       "    <tr>\n",
       "      <th>110</th>\n",
       "      <td>3</td>\n",
       "      <td>171</td>\n",
       "      <td>72.0</td>\n",
       "      <td>33</td>\n",
       "      <td>135</td>\n",
       "      <td>33.3</td>\n",
       "      <td>0.199</td>\n",
       "      <td>24</td>\n",
       "      <td>1</td>\n",
       "    </tr>\n",
       "    <tr>\n",
       "      <th>317</th>\n",
       "      <td>3</td>\n",
       "      <td>182</td>\n",
       "      <td>74.0</td>\n",
       "      <td>0</td>\n",
       "      <td>0</td>\n",
       "      <td>30.5</td>\n",
       "      <td>0.345</td>\n",
       "      <td>29</td>\n",
       "      <td>1</td>\n",
       "    </tr>\n",
       "    <tr>\n",
       "      <th>710</th>\n",
       "      <td>3</td>\n",
       "      <td>158</td>\n",
       "      <td>64.0</td>\n",
       "      <td>13</td>\n",
       "      <td>387</td>\n",
       "      <td>31.2</td>\n",
       "      <td>0.295</td>\n",
       "      <td>24</td>\n",
       "      <td>0</td>\n",
       "    </tr>\n",
       "  </tbody>\n",
       "</table>\n",
       "</div>"
      ],
      "text/plain": [
       "     Pregnancies  Glucose  BloodPressure  SkinThickness  Insulin   BMI  \\\n",
       "424            8      151           78.0             32      210  42.9   \n",
       "235            4      171           72.0              0        0  43.6   \n",
       "731            8      120           86.0              0        0  28.4   \n",
       "609            1      111           62.0             13      182  24.0   \n",
       "682            0       95           64.0             39      105  44.6   \n",
       "389            3      100           68.0             23       81  31.6   \n",
       "122            2      107           74.0             30      100  33.6   \n",
       "110            3      171           72.0             33      135  33.3   \n",
       "317            3      182           74.0              0        0  30.5   \n",
       "710            3      158           64.0             13      387  31.2   \n",
       "\n",
       "     DiabetesPedigreeFunction  Age  Outcome  \n",
       "424                     0.516   36        1  \n",
       "235                     0.479   26        1  \n",
       "731                     0.259   22        1  \n",
       "609                     0.138   23        0  \n",
       "682                     0.366   22        0  \n",
       "389                     0.949   28        0  \n",
       "122                     0.404   23        0  \n",
       "110                     0.199   24        1  \n",
       "317                     0.345   29        1  \n",
       "710                     0.295   24        0  "
      ]
     },
     "execution_count": 2,
     "metadata": {},
     "output_type": "execute_result"
    }
   ],
   "source": [
    "df=pd.read_csv(\"diabetes.csv\")\n",
    "df.sample(10)"
   ]
  },
  {
   "cell_type": "code",
   "execution_count": 3,
   "id": "ef42f91a",
   "metadata": {},
   "outputs": [
    {
     "data": {
      "text/plain": [
       "(768, 9)"
      ]
     },
     "execution_count": 3,
     "metadata": {},
     "output_type": "execute_result"
    }
   ],
   "source": [
    "df.shape"
   ]
  },
  {
   "cell_type": "code",
   "execution_count": 4,
   "id": "dcdefe95",
   "metadata": {},
   "outputs": [
    {
     "data": {
      "text/plain": [
       "Pregnancies                 0\n",
       "Glucose                     0\n",
       "BloodPressure               1\n",
       "SkinThickness               0\n",
       "Insulin                     0\n",
       "BMI                         0\n",
       "DiabetesPedigreeFunction    0\n",
       "Age                         0\n",
       "Outcome                     0\n",
       "dtype: int64"
      ]
     },
     "execution_count": 4,
     "metadata": {},
     "output_type": "execute_result"
    }
   ],
   "source": [
    "df.isnull().sum()"
   ]
  },
  {
   "cell_type": "code",
   "execution_count": 5,
   "id": "7f9623ea",
   "metadata": {},
   "outputs": [],
   "source": [
    "df['BloodPressure']=df['BloodPressure'].fillna(df['BloodPressure'].median())"
   ]
  },
  {
   "cell_type": "code",
   "execution_count": 6,
   "id": "5fb63262",
   "metadata": {},
   "outputs": [
    {
     "data": {
      "text/plain": [
       "Pregnancies                 0\n",
       "Glucose                     0\n",
       "BloodPressure               0\n",
       "SkinThickness               0\n",
       "Insulin                     0\n",
       "BMI                         0\n",
       "DiabetesPedigreeFunction    0\n",
       "Age                         0\n",
       "Outcome                     0\n",
       "dtype: int64"
      ]
     },
     "execution_count": 6,
     "metadata": {},
     "output_type": "execute_result"
    }
   ],
   "source": [
    "df.isnull().sum()"
   ]
  },
  {
   "cell_type": "code",
   "execution_count": 7,
   "id": "30e68301",
   "metadata": {},
   "outputs": [
    {
     "data": {
      "text/plain": [
       "Pregnancies                   int64\n",
       "Glucose                       int64\n",
       "BloodPressure               float64\n",
       "SkinThickness                 int64\n",
       "Insulin                       int64\n",
       "BMI                         float64\n",
       "DiabetesPedigreeFunction    float64\n",
       "Age                           int64\n",
       "Outcome                       int64\n",
       "dtype: object"
      ]
     },
     "execution_count": 7,
     "metadata": {},
     "output_type": "execute_result"
    }
   ],
   "source": [
    "df.dtypes"
   ]
  },
  {
   "cell_type": "code",
   "execution_count": 8,
   "id": "eb66aff2",
   "metadata": {},
   "outputs": [
    {
     "data": {
      "text/html": [
       "<div>\n",
       "<style scoped>\n",
       "    .dataframe tbody tr th:only-of-type {\n",
       "        vertical-align: middle;\n",
       "    }\n",
       "\n",
       "    .dataframe tbody tr th {\n",
       "        vertical-align: top;\n",
       "    }\n",
       "\n",
       "    .dataframe thead th {\n",
       "        text-align: right;\n",
       "    }\n",
       "</style>\n",
       "<table border=\"1\" class=\"dataframe\">\n",
       "  <thead>\n",
       "    <tr style=\"text-align: right;\">\n",
       "      <th></th>\n",
       "      <th>Pregnancies</th>\n",
       "      <th>Glucose</th>\n",
       "      <th>BloodPressure</th>\n",
       "      <th>SkinThickness</th>\n",
       "      <th>Insulin</th>\n",
       "      <th>BMI</th>\n",
       "      <th>DiabetesPedigreeFunction</th>\n",
       "      <th>Age</th>\n",
       "      <th>Outcome</th>\n",
       "    </tr>\n",
       "  </thead>\n",
       "  <tbody>\n",
       "    <tr>\n",
       "      <th>count</th>\n",
       "      <td>768.000000</td>\n",
       "      <td>768.000000</td>\n",
       "      <td>768.000000</td>\n",
       "      <td>768.000000</td>\n",
       "      <td>768.000000</td>\n",
       "      <td>768.000000</td>\n",
       "      <td>768.000000</td>\n",
       "      <td>768.000000</td>\n",
       "      <td>768.000000</td>\n",
       "    </tr>\n",
       "    <tr>\n",
       "      <th>mean</th>\n",
       "      <td>3.845052</td>\n",
       "      <td>120.894531</td>\n",
       "      <td>69.102865</td>\n",
       "      <td>20.536458</td>\n",
       "      <td>79.799479</td>\n",
       "      <td>31.992578</td>\n",
       "      <td>0.471876</td>\n",
       "      <td>33.240885</td>\n",
       "      <td>0.348958</td>\n",
       "    </tr>\n",
       "    <tr>\n",
       "      <th>std</th>\n",
       "      <td>3.369578</td>\n",
       "      <td>31.972618</td>\n",
       "      <td>19.355282</td>\n",
       "      <td>15.952218</td>\n",
       "      <td>115.244002</td>\n",
       "      <td>7.884160</td>\n",
       "      <td>0.331329</td>\n",
       "      <td>11.760232</td>\n",
       "      <td>0.476951</td>\n",
       "    </tr>\n",
       "    <tr>\n",
       "      <th>min</th>\n",
       "      <td>0.000000</td>\n",
       "      <td>0.000000</td>\n",
       "      <td>0.000000</td>\n",
       "      <td>0.000000</td>\n",
       "      <td>0.000000</td>\n",
       "      <td>0.000000</td>\n",
       "      <td>0.078000</td>\n",
       "      <td>21.000000</td>\n",
       "      <td>0.000000</td>\n",
       "    </tr>\n",
       "    <tr>\n",
       "      <th>25%</th>\n",
       "      <td>1.000000</td>\n",
       "      <td>99.000000</td>\n",
       "      <td>62.000000</td>\n",
       "      <td>0.000000</td>\n",
       "      <td>0.000000</td>\n",
       "      <td>27.300000</td>\n",
       "      <td>0.243750</td>\n",
       "      <td>24.000000</td>\n",
       "      <td>0.000000</td>\n",
       "    </tr>\n",
       "    <tr>\n",
       "      <th>50%</th>\n",
       "      <td>3.000000</td>\n",
       "      <td>117.000000</td>\n",
       "      <td>72.000000</td>\n",
       "      <td>23.000000</td>\n",
       "      <td>30.500000</td>\n",
       "      <td>32.000000</td>\n",
       "      <td>0.372500</td>\n",
       "      <td>29.000000</td>\n",
       "      <td>0.000000</td>\n",
       "    </tr>\n",
       "    <tr>\n",
       "      <th>75%</th>\n",
       "      <td>6.000000</td>\n",
       "      <td>140.250000</td>\n",
       "      <td>80.000000</td>\n",
       "      <td>32.000000</td>\n",
       "      <td>127.250000</td>\n",
       "      <td>36.600000</td>\n",
       "      <td>0.626250</td>\n",
       "      <td>41.000000</td>\n",
       "      <td>1.000000</td>\n",
       "    </tr>\n",
       "    <tr>\n",
       "      <th>max</th>\n",
       "      <td>17.000000</td>\n",
       "      <td>199.000000</td>\n",
       "      <td>122.000000</td>\n",
       "      <td>99.000000</td>\n",
       "      <td>846.000000</td>\n",
       "      <td>67.100000</td>\n",
       "      <td>2.420000</td>\n",
       "      <td>81.000000</td>\n",
       "      <td>1.000000</td>\n",
       "    </tr>\n",
       "  </tbody>\n",
       "</table>\n",
       "</div>"
      ],
      "text/plain": [
       "       Pregnancies     Glucose  BloodPressure  SkinThickness     Insulin  \\\n",
       "count   768.000000  768.000000     768.000000     768.000000  768.000000   \n",
       "mean      3.845052  120.894531      69.102865      20.536458   79.799479   \n",
       "std       3.369578   31.972618      19.355282      15.952218  115.244002   \n",
       "min       0.000000    0.000000       0.000000       0.000000    0.000000   \n",
       "25%       1.000000   99.000000      62.000000       0.000000    0.000000   \n",
       "50%       3.000000  117.000000      72.000000      23.000000   30.500000   \n",
       "75%       6.000000  140.250000      80.000000      32.000000  127.250000   \n",
       "max      17.000000  199.000000     122.000000      99.000000  846.000000   \n",
       "\n",
       "              BMI  DiabetesPedigreeFunction         Age     Outcome  \n",
       "count  768.000000                768.000000  768.000000  768.000000  \n",
       "mean    31.992578                  0.471876   33.240885    0.348958  \n",
       "std      7.884160                  0.331329   11.760232    0.476951  \n",
       "min      0.000000                  0.078000   21.000000    0.000000  \n",
       "25%     27.300000                  0.243750   24.000000    0.000000  \n",
       "50%     32.000000                  0.372500   29.000000    0.000000  \n",
       "75%     36.600000                  0.626250   41.000000    1.000000  \n",
       "max     67.100000                  2.420000   81.000000    1.000000  "
      ]
     },
     "execution_count": 8,
     "metadata": {},
     "output_type": "execute_result"
    }
   ],
   "source": [
    "df.describe()"
   ]
  },
  {
   "cell_type": "code",
   "execution_count": 9,
   "id": "555fd94f",
   "metadata": {},
   "outputs": [
    {
     "data": {
      "image/png": "[encoded data removed]",
      "text/plain": [
       "<Figure size 640x480 with 1 Axes>"
      ]
     },
     "metadata": {},
     "output_type": "display_data"
    }
   ],
   "source": [
    "#checking boxplot\n",
    "plt.boxplot(df['Pregnancies'])\n",
    "plt.show()"
   ]
  },
  {
   "cell_type": "code",
   "execution_count": 19,
   "id": "09929206",
   "metadata": {},
   "outputs": [
    {
     "data": {
      "image/png": "[encoded data removed]",
      "text/plain": [
       "<Figure size 640x480 with 1 Axes>"
      ]
     },
     "metadata": {},
     "output_type": "display_data"
    }
   ],
   "source": [
    "plt.boxplot(df['Glucose'])\n",
    "plt.show()"
   ]
  },
  {
   "cell_type": "code",
   "execution_count": 20,
   "id": "a208feeb",
   "metadata": {},
   "outputs": [
    {
     "data": {
      "image/png": "[encoded data removed]",
      "text/plain": [
       "<Figure size 640x480 with 1 Axes>"
      ]
     },
     "metadata": {},
     "output_type": "display_data"
    }
   ],
   "source": [
    "plt.boxplot(df['BloodPressure'])\n",
    "plt.show()"
   ]
  },
  {
   "cell_type": "code",
   "execution_count": 25,
   "id": "d857a176",
   "metadata": {},
   "outputs": [
    {
     "data": {
      "image/png": "[encoded data removed]",
      "text/plain": [
       "<Figure size 640x480 with 1 Axes>"
      ]
     },
     "metadata": {},
     "output_type": "display_data"
    }
   ],
   "source": [
    "plt.boxplot(df['SkinThickness'])\n",
    "plt.show()"
   ]
  },
  {
   "cell_type": "code",
   "execution_count": 24,
   "id": "b02b4b21",
   "metadata": {},
   "outputs": [
    {
     "data": {
      "image/png": "[encoded data removed]",
      "text/plain": [
       "<Figure size 640x480 with 1 Axes>"
      ]
     },
     "metadata": {},
     "output_type": "display_data"
    }
   ],
   "source": [
    "plt.boxplot(df['Insulin'])\n",
    "plt.show()"
   ]
  },
  {
   "cell_type": "code",
   "execution_count": 23,
   "id": "c813710f",
   "metadata": {},
   "outputs": [
    {
     "data": {
      "image/png": "[encoded data removed]",
      "text/plain": [
       "<Figure size 640x480 with 1 Axes>"
      ]
     },
     "metadata": {},
     "output_type": "display_data"
    }
   ],
   "source": [
    "plt.boxplot(df['BMI'])\n",
    "plt.show()"
   ]
  },
  {
   "cell_type": "code",
   "execution_count": 22,
   "id": "73f725cf",
   "metadata": {},
   "outputs": [
    {
     "data": {
      "image/png": "[encoded data removed]",
      "text/plain": [
       "<Figure size 640x480 with 1 Axes>"
      ]
     },
     "metadata": {},
     "output_type": "display_data"
    }
   ],
   "source": [
    "plt.boxplot(df['DiabetesPedigreeFunction'])\n",
    "plt.show()"
   ]
  },
  {
   "cell_type": "code",
   "execution_count": 21,
   "id": "1410d0ea",
   "metadata": {},
   "outputs": [
    {
     "data": {
      "image/png": "[encoded data removed]",
      "text/plain": [
       "<Figure size 640x480 with 1 Axes>"
      ]
     },
     "metadata": {},
     "output_type": "display_data"
    }
   ],
   "source": [
    "plt.boxplot(df['Age'])\n",
    "plt.show()"
   ]
  },
  {
   "cell_type": "code",
   "execution_count": 27,
   "id": "e66aa55d",
   "metadata": {},
   "outputs": [],
   "source": [
    "#Checking Outlier by definition and treating outliers\n",
    "\n",
    "#getting median\n",
    "pregnancies_col_df = pd.DataFrame(df['Pregnancies'])\n",
    "pregnancies_median = pregnancies_col_df.median()\n",
    "\n",
    "#getting IQR of column\n",
    "Q3 = pregnancies_col_df.quantile(q=0.75)\n",
    "Q1 = pregnancies_col_df.quantile(q=0.25)\n",
    "IQR = Q3-Q1\n",
    "\n",
    "#Deriving boundaries of Outliers\n",
    "IQR_LL = int(Q1 - 1.5*IQR)\n",
    "IQR_UL = int(Q3 + 1.5*IQR)\n",
    "\n",
    "#Finding and treating outliers - both lower and upper end\n",
    "df.loc[df['Pregnancies']>IQR_UL , 'Pregnancies'] = int(pregnancies_col_df.quantile(q=0.90))\n",
    "df.loc[df['Pregnancies']<IQR_LL , 'Pregnancies'] = int(pregnancies_col_df.quantile(q=0.01))"
   ]
  },
  {
   "cell_type": "code",
   "execution_count": 29,
   "id": "0504a66a",
   "metadata": {},
   "outputs": [
    {
     "data": {
      "text/plain": [
       "13"
      ]
     },
     "execution_count": 29,
     "metadata": {},
     "output_type": "execute_result"
    }
   ],
   "source": [
    "#Check max value now\n",
    "max(df['Pregnancies'])"
   ]
  },
  {
   "cell_type": "code",
   "execution_count": 30,
   "id": "54ad2da6",
   "metadata": {},
   "outputs": [
    {
     "data": {
      "image/png": "[encoded data removed]",
      "text/plain": [
       "<Figure size 640x480 with 1 Axes>"
      ]
     },
     "metadata": {},
     "output_type": "display_data"
    }
   ],
   "source": [
    "#checking boxplot\n",
    "plt.boxplot(df['Pregnancies'])\n",
    "plt.show()"
   ]
  },
  {
   "cell_type": "code",
   "execution_count": 31,
   "id": "db409d14",
   "metadata": {},
   "outputs": [],
   "source": [
    "#Checking Outlier by definition and treating outliers\n",
    "\n",
    "#getting median\n",
    "Glucose_col_df = pd.DataFrame(df['Glucose'])\n",
    "Glucose_median = Glucose_col_df.median()\n",
    "\n",
    "#getting IQR of column\n",
    "Q3 = Glucose_col_df.quantile(q=0.75)\n",
    "Q1 = Glucose_col_df.quantile(q=0.25)\n",
    "IQR = Q3-Q1\n",
    "\n",
    "#Deriving boundaries of Outliers\n",
    "IQR_LL = int(Q1 - 1.5*IQR)\n",
    "IQR_UL = int(Q3 + 1.5*IQR)\n",
    "\n",
    "#Finding and treating outliers - both lower and upper end\n",
    "df.loc[df['Glucose']>IQR_UL , 'Glucose'] = int(Glucose_col_df.quantile(q=0.90))\n",
    "df.loc[df['Glucose']<IQR_LL , 'Glucose'] = int(Glucose_col_df.quantile(q=0.01))"
   ]
  },
  {
   "cell_type": "code",
   "execution_count": 34,
   "id": "4357f979",
   "metadata": {},
   "outputs": [
    {
     "data": {
      "text/plain": [
       "44"
      ]
     },
     "execution_count": 34,
     "metadata": {},
     "output_type": "execute_result"
    }
   ],
   "source": [
    "#Check min value now\n",
    "min(df['Glucose'])"
   ]
  },
  {
   "cell_type": "code",
   "execution_count": 32,
   "id": "37b94fa4",
   "metadata": {},
   "outputs": [
    {
     "data": {
      "image/png": "[encoded data removed]",
      "text/plain": [
       "<Figure size 640x480 with 1 Axes>"
      ]
     },
     "metadata": {},
     "output_type": "display_data"
    }
   ],
   "source": [
    "#checking boxplot\n",
    "plt.boxplot(df['Glucose'])\n",
    "plt.show()"
   ]
  },
  {
   "cell_type": "code",
   "execution_count": 41,
   "id": "2feaec23",
   "metadata": {},
   "outputs": [],
   "source": [
    "#Checking Outlier by definition and treating outliers\n",
    "\n",
    "#getting median\n",
    "BloodPressure_col_df = pd.DataFrame(df['BloodPressure'])\n",
    "BloodPressure_median = BloodPressure_col_df.median()\n",
    "\n",
    "#getting IQR of column\n",
    "Q3 = BloodPressure_col_df.quantile(q=0.75)\n",
    "Q1 = BloodPressure_col_df.quantile(q=0.25)\n",
    "IQR = Q3-Q1\n",
    "\n",
    "#Deriving boundaries of Outliers\n",
    "IQR_LL = int(Q1 - 1.5*IQR)\n",
    "IQR_UL = int(Q3 + 1.5*IQR)\n",
    "\n",
    "#Finding and treating outliers - both lower and upper end\n",
    "df.loc[df['BloodPressure']>IQR_UL , 'BloodPressure'] = int(BloodPressure_col_df.quantile(q=0.90))\n",
    "df.loc[df['BloodPressure']<IQR_LL , 'BloodPressure'] = int(BloodPressure_col_df.quantile(q=0.01))"
   ]
  },
  {
   "cell_type": "code",
   "execution_count": 38,
   "id": "78b25843",
   "metadata": {},
   "outputs": [
    {
     "data": {
      "text/plain": [
       "106.0"
      ]
     },
     "execution_count": 38,
     "metadata": {},
     "output_type": "execute_result"
    }
   ],
   "source": [
    "#Check max value now\n",
    "max(df['BloodPressure'])"
   ]
  },
  {
   "cell_type": "code",
   "execution_count": 42,
   "id": "fa19b9de",
   "metadata": {},
   "outputs": [
    {
     "data": {
      "image/png": "[encoded data removed]",
      "text/plain": [
       "<Figure size 640x480 with 1 Axes>"
      ]
     },
     "metadata": {},
     "output_type": "display_data"
    }
   ],
   "source": [
    "#checking boxplot\n",
    "plt.boxplot(df['BloodPressure'])\n",
    "plt.show()"
   ]
  },
  {
   "cell_type": "code",
   "execution_count": 43,
   "id": "e05995bf",
   "metadata": {},
   "outputs": [],
   "source": [
    "#Checking Outlier by definition and treating outliers\n",
    "\n",
    "#getting median\n",
    "SkinThickness_col_df = pd.DataFrame(df['SkinThickness'])\n",
    "SkinThickness_median =SkinThickness_col_df.median()\n",
    "\n",
    "#getting IQR of  column\n",
    "Q3 = SkinThickness_col_df.quantile(q=0.75)\n",
    "Q1 = SkinThickness_col_df.quantile(q=0.25)\n",
    "IQR = Q3-Q1\n",
    "\n",
    "#Deriving boundaries of Outliers\n",
    "IQR_LL = int(Q1 - 1.5*IQR)\n",
    "IQR_UL = int(Q3 + 1.5*IQR)\n",
    "\n",
    "#Finding and treating outliers - both lower and upper end\n",
    "df.loc[df['SkinThickness']>IQR_UL , 'SkinThickness'] = int(SkinThickness_col_df.quantile(q=0.90))\n",
    "df.loc[df['SkinThickness']<IQR_LL , 'SkinThickness'] = int(SkinThickness_col_df.quantile(q=0.01))"
   ]
  },
  {
   "cell_type": "code",
   "execution_count": 44,
   "id": "b97aa3c6",
   "metadata": {},
   "outputs": [
    {
     "data": {
      "image/png": "[encoded data removed]",
      "text/plain": [
       "<Figure size 640x480 with 1 Axes>"
      ]
     },
     "metadata": {},
     "output_type": "display_data"
    }
   ],
   "source": [
    "#checking boxplot\n",
    "plt.boxplot(df['BloodPressure'])\n",
    "plt.show()"
   ]
  },
  {
   "cell_type": "code",
   "execution_count": 45,
   "id": "9a7536d5",
   "metadata": {},
   "outputs": [],
   "source": [
    "#Checking Outlier by definition and treating outliers\n",
    "\n",
    "#getting median\n",
    "Insulin_col_df = pd.DataFrame(df['Insulin'])\n",
    "Insulin_median =Insulin_col_df.median()\n",
    "\n",
    "#getting IQR of column\n",
    "Q3 = Insulin_col_df.quantile(q=0.75)\n",
    "Q1 = Insulin_col_df.quantile(q=0.25)\n",
    "IQR = Q3-Q1\n",
    "\n",
    "#Deriving boundaries of Outliers\n",
    "IQR_LL = int(Q1 - 1.5*IQR)\n",
    "IQR_UL = int(Q3 + 1.5*IQR)\n",
    "\n",
    "#Finding and treating outliers - both lower and upper end\n",
    "df.loc[df['Insulin']>IQR_UL , 'Insulin'] = int(Insulin_col_df.quantile(q=0.90))\n",
    "df.loc[df['Insulin']<IQR_LL , 'Insulin'] = int(Insulin_col_df.quantile(q=0.01))"
   ]
  },
  {
   "cell_type": "code",
   "execution_count": 46,
   "id": "ee68ef7e",
   "metadata": {},
   "outputs": [
    {
     "data": {
      "image/png": "[encoded data removed]",
      "text/plain": [
       "<Figure size 640x480 with 1 Axes>"
      ]
     },
     "metadata": {},
     "output_type": "display_data"
    }
   ],
   "source": [
    "#checking boxplot\n",
    "plt.boxplot(df['Insulin'])\n",
    "plt.show()"
   ]
  },
  {
   "cell_type": "code",
   "execution_count": 47,
   "id": "734e95b1",
   "metadata": {},
   "outputs": [],
   "source": [
    "#Checking Outlier by definition and treating outliers\n",
    "\n",
    "#getting median\n",
    "BMI_col_df = pd.DataFrame(df['BMI'])\n",
    "BMI_median =BMI_col_df.median()\n",
    "\n",
    "#getting IQR of column\n",
    "Q3 = BMI_col_df.quantile(q=0.75)\n",
    "Q1 = BMI_col_df.quantile(q=0.25)\n",
    "IQR = Q3-Q1\n",
    "\n",
    "#Deriving boundaries of Outliers\n",
    "IQR_LL = int(Q1 - 1.5*IQR)\n",
    "IQR_UL = int(Q3 + 1.5*IQR)\n",
    "\n",
    "#Finding and treating outliers - both lower and upper end\n",
    "df.loc[df['BMI']>IQR_UL , 'BMI'] = int(BMI_col_df.quantile(q=0.90))\n",
    "df.loc[df['BMI']<IQR_LL , 'BMI'] = int(BMI_col_df.quantile(q=0.01))"
   ]
  },
  {
   "cell_type": "code",
   "execution_count": 48,
   "id": "8b17a733",
   "metadata": {},
   "outputs": [
    {
     "data": {
      "image/png": "[encoded data removed]",
      "text/plain": [
       "<Figure size 640x480 with 1 Axes>"
      ]
     },
     "metadata": {},
     "output_type": "display_data"
    }
   ],
   "source": [
    "#checking boxplot\n",
    "plt.boxplot(df['BMI'])\n",
    "plt.show()"
   ]
  },
  {
   "cell_type": "code",
   "execution_count": 49,
   "id": "6f4d17a5",
   "metadata": {},
   "outputs": [],
   "source": [
    "#Checking Outlier by definition and treating outliers\n",
    "\n",
    "#getting median\n",
    "DiabetesPedigreeFunction_col_df = pd.DataFrame(df['DiabetesPedigreeFunction'])\n",
    "DiabetesPedigreeFunction_median =DiabetesPedigreeFunction_col_df.median()\n",
    "\n",
    "#getting IQR of column\n",
    "Q3 = DiabetesPedigreeFunction_col_df.quantile(q=0.75)\n",
    "Q1 = DiabetesPedigreeFunction_col_df.quantile(q=0.25)\n",
    "IQR = Q3-Q1\n",
    "\n",
    "#Deriving boundaries of Outliers\n",
    "IQR_LL = int(Q1 - 1.5*IQR)\n",
    "IQR_UL = int(Q3 + 1.5*IQR)\n",
    "\n",
    "#Finding and treating outliers - both lower and upper end\n",
    "df.loc[df['DiabetesPedigreeFunction']>IQR_UL , 'DiabetesPedigreeFunction'] = int(DiabetesPedigreeFunction_col_df.quantile(q=0.90))\n",
    "df.loc[df['DiabetesPedigreeFunction']<IQR_LL , 'DiabetesPedigreeFunction'] = int(DiabetesPedigreeFunction_col_df.quantile(q=0.01))\n"
   ]
  },
  {
   "cell_type": "code",
   "execution_count": 50,
   "id": "14775472",
   "metadata": {},
   "outputs": [
    {
     "data": {
      "image/png": "[encoded data removed]",
      "text/plain": [
       "<Figure size 640x480 with 1 Axes>"
      ]
     },
     "metadata": {},
     "output_type": "display_data"
    }
   ],
   "source": [
    "#checking boxplot\n",
    "plt.boxplot(df['DiabetesPedigreeFunction'])\n",
    "plt.show()"
   ]
  },
  {
   "cell_type": "code",
   "execution_count": 52,
   "id": "19383200",
   "metadata": {},
   "outputs": [],
   "source": [
    "#Checking Outlier by definition and treating outliers\n",
    "\n",
    "#getting median Age\n",
    "Age_col_df = pd.DataFrame(df['Age'])\n",
    "Age_median = Age_col_df.median()\n",
    "\n",
    "#getting IQR of Age column\n",
    "Q3 = Age_col_df.quantile(q=0.75)\n",
    "Q1 = Age_col_df.quantile(q=0.25)\n",
    "IQR = Q3-Q1\n",
    "\n",
    "#Deriving boundaries of Outliers\n",
    "IQR_LL = int(Q1 - 1.5*IQR)\n",
    "IQR_UL = int(Q3 + 1.5*IQR)\n",
    "\n",
    "#Finding and treating outliers - both lower and upper end\n",
    "df.loc[df['Age']>IQR_UL , 'Age'] = int(Age_col_df.quantile(q=0.90))\n",
    "df.loc[df['Age']<IQR_LL , 'Age'] = int(Age_col_df.quantile(q=0.01))"
   ]
  },
  {
   "cell_type": "code",
   "execution_count": 53,
   "id": "6ff381b9",
   "metadata": {},
   "outputs": [
    {
     "data": {
      "image/png": "[encoded data removed]",
      "text/plain": [
       "<Figure size 640x480 with 1 Axes>"
      ]
     },
     "metadata": {},
     "output_type": "display_data"
    }
   ],
   "source": [
    "#checking boxplot\n",
    "plt.boxplot(df['Age'])\n",
    "plt.show()"
   ]
  },
  {
   "cell_type": "code",
   "execution_count": 55,
   "id": "0f00dc06",
   "metadata": {},
   "outputs": [
    {
     "data": {
      "text/html": [
       "<div>\n",
       "<style scoped>\n",
       "    .dataframe tbody tr th:only-of-type {\n",
       "        vertical-align: middle;\n",
       "    }\n",
       "\n",
       "    .dataframe tbody tr th {\n",
       "        vertical-align: top;\n",
       "    }\n",
       "\n",
       "    .dataframe thead th {\n",
       "        text-align: right;\n",
       "    }\n",
       "</style>\n",
       "<table border=\"1\" class=\"dataframe\">\n",
       "  <thead>\n",
       "    <tr style=\"text-align: right;\">\n",
       "      <th></th>\n",
       "      <th>Pregnancies</th>\n",
       "      <th>Glucose</th>\n",
       "      <th>BloodPressure</th>\n",
       "      <th>SkinThickness</th>\n",
       "      <th>Insulin</th>\n",
       "      <th>BMI</th>\n",
       "      <th>DiabetesPedigreeFunction</th>\n",
       "      <th>Age</th>\n",
       "      <th>Outcome</th>\n",
       "    </tr>\n",
       "  </thead>\n",
       "  <tbody>\n",
       "    <tr>\n",
       "      <th>count</th>\n",
       "      <td>768.000000</td>\n",
       "      <td>768.000000</td>\n",
       "      <td>768.000000</td>\n",
       "      <td>768.000000</td>\n",
       "      <td>768.000000</td>\n",
       "      <td>768.000000</td>\n",
       "      <td>768.000000</td>\n",
       "      <td>768.000000</td>\n",
       "      <td>768.000000</td>\n",
       "    </tr>\n",
       "    <tr>\n",
       "      <th>mean</th>\n",
       "      <td>3.813802</td>\n",
       "      <td>121.265625</td>\n",
       "      <td>68.777344</td>\n",
       "      <td>20.459635</td>\n",
       "      <td>68.865885</td>\n",
       "      <td>31.834375</td>\n",
       "      <td>0.381772</td>\n",
       "      <td>33.018229</td>\n",
       "      <td>0.348958</td>\n",
       "    </tr>\n",
       "    <tr>\n",
       "      <th>std</th>\n",
       "      <td>3.291642</td>\n",
       "      <td>30.877936</td>\n",
       "      <td>19.314623</td>\n",
       "      <td>15.714149</td>\n",
       "      <td>83.115894</td>\n",
       "      <td>7.525826</td>\n",
       "      <td>0.237803</td>\n",
       "      <td>11.220194</td>\n",
       "      <td>0.476951</td>\n",
       "    </tr>\n",
       "    <tr>\n",
       "      <th>min</th>\n",
       "      <td>0.000000</td>\n",
       "      <td>44.000000</td>\n",
       "      <td>0.000000</td>\n",
       "      <td>0.000000</td>\n",
       "      <td>0.000000</td>\n",
       "      <td>0.000000</td>\n",
       "      <td>0.000000</td>\n",
       "      <td>21.000000</td>\n",
       "      <td>0.000000</td>\n",
       "    </tr>\n",
       "    <tr>\n",
       "      <th>25%</th>\n",
       "      <td>1.000000</td>\n",
       "      <td>99.000000</td>\n",
       "      <td>62.000000</td>\n",
       "      <td>0.000000</td>\n",
       "      <td>0.000000</td>\n",
       "      <td>27.300000</td>\n",
       "      <td>0.207000</td>\n",
       "      <td>24.000000</td>\n",
       "      <td>0.000000</td>\n",
       "    </tr>\n",
       "    <tr>\n",
       "      <th>50%</th>\n",
       "      <td>3.000000</td>\n",
       "      <td>117.000000</td>\n",
       "      <td>72.000000</td>\n",
       "      <td>23.000000</td>\n",
       "      <td>30.500000</td>\n",
       "      <td>32.000000</td>\n",
       "      <td>0.326000</td>\n",
       "      <td>29.000000</td>\n",
       "      <td>0.000000</td>\n",
       "    </tr>\n",
       "    <tr>\n",
       "      <th>75%</th>\n",
       "      <td>6.000000</td>\n",
       "      <td>140.250000</td>\n",
       "      <td>80.000000</td>\n",
       "      <td>32.000000</td>\n",
       "      <td>127.250000</td>\n",
       "      <td>36.600000</td>\n",
       "      <td>0.547500</td>\n",
       "      <td>41.000000</td>\n",
       "      <td>1.000000</td>\n",
       "    </tr>\n",
       "    <tr>\n",
       "      <th>max</th>\n",
       "      <td>13.000000</td>\n",
       "      <td>199.000000</td>\n",
       "      <td>106.000000</td>\n",
       "      <td>63.000000</td>\n",
       "      <td>318.000000</td>\n",
       "      <td>50.000000</td>\n",
       "      <td>0.997000</td>\n",
       "      <td>66.000000</td>\n",
       "      <td>1.000000</td>\n",
       "    </tr>\n",
       "  </tbody>\n",
       "</table>\n",
       "</div>"
      ],
      "text/plain": [
       "       Pregnancies     Glucose  BloodPressure  SkinThickness     Insulin  \\\n",
       "count   768.000000  768.000000     768.000000     768.000000  768.000000   \n",
       "mean      3.813802  121.265625      68.777344      20.459635   68.865885   \n",
       "std       3.291642   30.877936      19.314623      15.714149   83.115894   \n",
       "min       0.000000   44.000000       0.000000       0.000000    0.000000   \n",
       "25%       1.000000   99.000000      62.000000       0.000000    0.000000   \n",
       "50%       3.000000  117.000000      72.000000      23.000000   30.500000   \n",
       "75%       6.000000  140.250000      80.000000      32.000000  127.250000   \n",
       "max      13.000000  199.000000     106.000000      63.000000  318.000000   \n",
       "\n",
       "              BMI  DiabetesPedigreeFunction         Age     Outcome  \n",
       "count  768.000000                768.000000  768.000000  768.000000  \n",
       "mean    31.834375                  0.381772   33.018229    0.348958  \n",
       "std      7.525826                  0.237803   11.220194    0.476951  \n",
       "min      0.000000                  0.000000   21.000000    0.000000  \n",
       "25%     27.300000                  0.207000   24.000000    0.000000  \n",
       "50%     32.000000                  0.326000   29.000000    0.000000  \n",
       "75%     36.600000                  0.547500   41.000000    1.000000  \n",
       "max     50.000000                  0.997000   66.000000    1.000000  "
      ]
     },
     "execution_count": 55,
     "metadata": {},
     "output_type": "execute_result"
    }
   ],
   "source": [
    "df.describe()"
   ]
  },
  {
   "cell_type": "code",
   "execution_count": 56,
   "id": "9c84acec",
   "metadata": {},
   "outputs": [
    {
     "data": {
      "image/png": "[encoded data removed]",
      "text/plain": [
       "<Figure size 800x400 with 2 Axes>"
      ]
     },
     "metadata": {},
     "output_type": "display_data"
    }
   ],
   "source": [
    "#check correltion matrix - to check the strength of variation bwtween variables\n",
    "correlation_matrix= df.corr().round(2)\n",
    "fgr, ax = plt.subplots(figsize =(8, 4)) \n",
    "c = sn.heatmap(data=correlation_matrix, annot=True)\n",
    "fgr.savefig(\"myimage.png\")"
   ]
  },
  {
   "cell_type": "code",
   "execution_count": 57,
   "id": "77a40c8f",
   "metadata": {},
   "outputs": [],
   "source": [
    "correlation_matrix.to_csv(\"myfile1802.csv\")"
   ]
  },
  {
   "cell_type": "code",
   "execution_count": 58,
   "id": "ac11e1fa",
   "metadata": {},
   "outputs": [
    {
     "data": {
      "text/plain": [
       "array([[0.46153846, 0.67096774, 0.67924528, ..., 0.62888666, 0.64444444,\n",
       "        1.        ],\n",
       "       [0.07692308, 0.26451613, 0.62264151, ..., 0.35205617, 0.22222222,\n",
       "        0.        ],\n",
       "       [0.61538462, 0.89677419, 0.60377358, ..., 0.67402207, 0.24444444,\n",
       "        1.        ],\n",
       "       ...,\n",
       "       [0.38461538, 0.49677419, 0.67924528, ..., 0.24573721, 0.2       ,\n",
       "        0.        ],\n",
       "       [0.07692308, 0.52903226, 0.56603774, ..., 0.35005015, 0.57777778,\n",
       "        1.        ],\n",
       "       [0.07692308, 0.31612903, 0.66037736, ..., 0.31594784, 0.04444444,\n",
       "        0.        ]])"
      ]
     },
     "execution_count": 58,
     "metadata": {},
     "output_type": "execute_result"
    }
   ],
   "source": [
    "################feature engineering#######################\n",
    "#Normalization/scaling of data - understanding scaling\n",
    "from sklearn.preprocessing import MinMaxScaler\n",
    "scaler = MinMaxScaler()\n",
    "scaled_data = scaler.fit_transform(df)\n",
    "scaled_data"
   ]
  },
  {
   "cell_type": "code",
   "execution_count": 59,
   "id": "59bbc089",
   "metadata": {},
   "outputs": [],
   "source": [
    "#converting data back to pandas dataframe\n",
    "df_scaled = pd.DataFrame(scaled_data)\n",
    "df_scaled.columns = df.columns"
   ]
  },
  {
   "cell_type": "code",
   "execution_count": 61,
   "id": "f413e065",
   "metadata": {},
   "outputs": [],
   "source": [
    "#Separating features and response\n",
    "features = [\"Pregnancies\",\"Glucose\",\"BloodPressure\",\"SkinThickness\",\"Insulin\",\"BMI\",\"DiabetesPedigreeFunction\",\"Age\"]\n",
    "response = [\"Outcome\"]\n",
    "X=df_scaled[features]\n",
    "y=df_scaled[response]"
   ]
  },
  {
   "cell_type": "code",
   "execution_count": 62,
   "id": "98967483",
   "metadata": {},
   "outputs": [],
   "source": [
    "#Dividing data in test and train\n",
    "from sklearn.model_selection import train_test_split\n",
    "X_train, X_test, y_train, y_test = train_test_split(X, y, test_size=0.1, random_state=0)\n"
   ]
  },
  {
   "cell_type": "code",
   "execution_count": 63,
   "id": "43354fa5",
   "metadata": {},
   "outputs": [
    {
     "data": {
      "text/plain": [
       "((691, 8), (77, 8), (691, 1), (77, 1))"
      ]
     },
     "execution_count": 63,
     "metadata": {},
     "output_type": "execute_result"
    }
   ],
   "source": [
    "X_train.shape, X_test.shape, y_train.shape, y_test.shape"
   ]
  },
  {
   "cell_type": "code",
   "execution_count": 77,
   "id": "25b64e72",
   "metadata": {},
   "outputs": [],
   "source": [
    "#performance metrics\n",
    "from sklearn import metrics\n",
    "from sklearn.metrics import accuracy_score, confusion_matrix, classification_report, roc_auc_score"
   ]
  },
  {
   "cell_type": "code",
   "execution_count": 78,
   "id": "e7ac0927",
   "metadata": {},
   "outputs": [
    {
     "name": "stdout",
     "output_type": "stream",
     "text": [
      "[[44  7]\n",
      " [ 8 18]] \n",
      "\n",
      "Mean Absolute Error: 0.19480519480519481\n",
      "Mean Squared Error: 0.19480519480519481\n",
      "Root Mean Squared Error: 0.4413674147523748 \n",
      "\n",
      "              precision    recall  f1-score   support\n",
      "\n",
      "         0.0       0.85      0.86      0.85        51\n",
      "         1.0       0.72      0.69      0.71        26\n",
      "\n",
      "    accuracy                           0.81        77\n",
      "   macro avg       0.78      0.78      0.78        77\n",
      "weighted avg       0.80      0.81      0.80        77\n",
      "\n",
      "Accuracy: 0.8051948051948052\n"
     ]
    },
    {
     "name": "stderr",
     "output_type": "stream",
     "text": [
      "C:\\Users\\DCL\\AppData\\Local\\Temp\\ipykernel_3232\\4177214996.py:9: DataConversionWarning: A column-vector y was passed when a 1d array was expected. Please change the shape of y to (n_samples,), for example using ravel().\n",
      "  RFR.fit(X_train,y_train)\n"
     ]
    }
   ],
   "source": [
    "# import classifier\n",
    "\n",
    "from sklearn.ensemble import RandomForestClassifier\n",
    "\n",
    "# initialize the Regressor\n",
    "RFR = RandomForestClassifier()\n",
    "\n",
    "#fit the regressor to the data\n",
    "RFR.fit(X_train,y_train)\n",
    "\n",
    "#use the resulting model to predict value on the test sey\n",
    "y_pred = RFR.predict(X_test)\n",
    "accuracy = RFR.score(X_test,y_test)\n",
    "print(confusion_matrix(y_test, y_pred), '\\n')\n",
    "print('Mean Absolute Error:', metrics.mean_absolute_error(y_test, y_pred))\n",
    "print('Mean Squared Error:', metrics.mean_squared_error(y_test, y_pred))\n",
    "print('Root Mean Squared Error:', np.sqrt(metrics.mean_squared_error(y_test, y_pred)), '\\n')\n",
    "\n",
    "print(classification_report(y_test, y_pred))\n",
    "print(\"Accuracy:\", accuracy_score(y_test, y_pred))"
   ]
  },
  {
   "cell_type": "code",
   "execution_count": 79,
   "id": "603f3d39",
   "metadata": {},
   "outputs": [
    {
     "name": "stdout",
     "output_type": "stream",
     "text": [
      "[[38 13]\n",
      " [ 9 17]] \n",
      "\n",
      "Mean Absolute Error: 0.2857142857142857\n",
      "Mean Squared Error: 0.2857142857142857\n",
      "Root Mean Squared Error: 0.5345224838248488 \n",
      "\n",
      "              precision    recall  f1-score   support\n",
      "\n",
      "         0.0       0.81      0.75      0.78        51\n",
      "         1.0       0.57      0.65      0.61        26\n",
      "\n",
      "    accuracy                           0.71        77\n",
      "   macro avg       0.69      0.70      0.69        77\n",
      "weighted avg       0.73      0.71      0.72        77\n",
      "\n",
      "Accuracy: 0.7142857142857143\n"
     ]
    }
   ],
   "source": [
    "# import classifier\n",
    "from sklearn.tree import DecisionTreeClassifier\n",
    "\n",
    "# initialize the Regressor\n",
    "DTC = DecisionTreeClassifier()\n",
    "\n",
    "#fit the regressor to the data\n",
    "DTC.fit(X_train,y_train)\n",
    "\n",
    "#use the resulting model to predict value on the test sey\n",
    "y_pred = DTC.predict(X_test)\n",
    "accuracy = DTC.score(X_test,y_test)\n",
    "print(confusion_matrix(y_test, y_pred), '\\n')\n",
    "print('Mean Absolute Error:', metrics.mean_absolute_error(y_test, y_pred))\n",
    "print('Mean Squared Error:', metrics.mean_squared_error(y_test, y_pred))\n",
    "print('Root Mean Squared Error:', np.sqrt(metrics.mean_squared_error(y_test, y_pred)), '\\n')\n",
    "\n",
    "print(classification_report(y_test, y_pred))\n",
    "print(\"Accuracy:\", accuracy_score(y_test, y_pred))"
   ]
  },
  {
   "cell_type": "code",
   "execution_count": 80,
   "id": "84915011",
   "metadata": {},
   "outputs": [
    {
     "name": "stderr",
     "output_type": "stream",
     "text": [
      "C:\\Users\\DCL\\anaconda3\\lib\\site-packages\\sklearn\\ensemble\\_bagging.py:719: DataConversionWarning: A column-vector y was passed when a 1d array was expected. Please change the shape of y to (n_samples, ), for example using ravel().\n",
      "  y = column_or_1d(y, warn=True)\n"
     ]
    },
    {
     "name": "stdout",
     "output_type": "stream",
     "text": [
      "[[44  7]\n",
      " [ 8 18]] \n",
      "\n",
      "Mean Absolute Error: 0.19480519480519481\n",
      "Mean Squared Error: 0.19480519480519481\n",
      "Root Mean Squared Error: 0.4413674147523748 \n",
      "\n",
      "              precision    recall  f1-score   support\n",
      "\n",
      "         0.0       0.85      0.86      0.85        51\n",
      "         1.0       0.72      0.69      0.71        26\n",
      "\n",
      "    accuracy                           0.81        77\n",
      "   macro avg       0.78      0.78      0.78        77\n",
      "weighted avg       0.80      0.81      0.80        77\n",
      "\n",
      "Accuracy: 0.8051948051948052\n"
     ]
    }
   ],
   "source": [
    "# import classifier\n",
    "from sklearn.ensemble import BaggingClassifier\n",
    "# initialize the Regressor\n",
    "bag_model = BaggingClassifier(\n",
    "    n_estimators = 100,\n",
    "    max_samples = 0.8,\n",
    "    random_state=0\n",
    ")\n",
    "#fit the regressor to the data\n",
    "\n",
    "bag_model.fit(X_train,y_train)\n",
    "y_pred = bag_model.predict(X_test)\n",
    "accuracy = bag_model.score(X_test,y_test)\n",
    "print(confusion_matrix(y_test, y_pred), '\\n')\n",
    "print('Mean Absolute Error:', metrics.mean_absolute_error(y_test, y_pred))\n",
    "print('Mean Squared Error:', metrics.mean_squared_error(y_test, y_pred))\n",
    "print('Root Mean Squared Error:', np.sqrt(metrics.mean_squared_error(y_test, y_pred)), '\\n')\n",
    "\n",
    "print(classification_report(y_test, y_pred))\n",
    "print(\"Accuracy:\", accuracy_score(y_test, y_pred))"
   ]
  },
  {
   "cell_type": "code",
   "execution_count": 81,
   "id": "10b7c552",
   "metadata": {},
   "outputs": [
    {
     "name": "stdout",
     "output_type": "stream",
     "text": [
      "[[44  7]\n",
      " [11 15]] \n",
      "\n",
      "Mean Absolute Error: 0.23376623376623376\n",
      "Mean Squared Error: 0.23376623376623376\n",
      "Root Mean Squared Error: 0.48349377841522817 \n",
      "\n",
      "              precision    recall  f1-score   support\n",
      "\n",
      "         0.0       0.80      0.86      0.83        51\n",
      "         1.0       0.68      0.58      0.62        26\n",
      "\n",
      "    accuracy                           0.77        77\n",
      "   macro avg       0.74      0.72      0.73        77\n",
      "weighted avg       0.76      0.77      0.76        77\n",
      "\n",
      "Accuracy: 0.7662337662337663\n"
     ]
    },
    {
     "name": "stderr",
     "output_type": "stream",
     "text": [
      "C:\\Users\\DCL\\anaconda3\\lib\\site-packages\\sklearn\\ensemble\\_gb.py:494: DataConversionWarning: A column-vector y was passed when a 1d array was expected. Please change the shape of y to (n_samples, ), for example using ravel().\n",
      "  y = column_or_1d(y, warn=True)\n"
     ]
    }
   ],
   "source": [
    "# import classifier\n",
    "from sklearn.ensemble import GradientBoostingClassifier\n",
    "# initialize the Regressor\n",
    "gb_model = GradientBoostingClassifier()\n",
    "#fit the regressor to the data\n",
    "\n",
    "gb_model.fit(X_train,y_train)\n",
    "\n",
    "#use the resulting model to predict value on the test sey\n",
    "y_pred = gb_model.predict(X_test)\n",
    "accuracy = gb_model.score(X_test,y_test)\n",
    "print(confusion_matrix(y_test, y_pred), '\\n')\n",
    "print('Mean Absolute Error:', metrics.mean_absolute_error(y_test, y_pred))\n",
    "print('Mean Squared Error:', metrics.mean_squared_error(y_test, y_pred))\n",
    "print('Root Mean Squared Error:', np.sqrt(metrics.mean_squared_error(y_test, y_pred)), '\\n')\n",
    "\n",
    "print(classification_report(y_test, y_pred))\n",
    "print(\"Accuracy:\", accuracy_score(y_test, y_pred))"
   ]
  },
  {
   "cell_type": "code",
   "execution_count": 82,
   "id": "945aa244",
   "metadata": {},
   "outputs": [
    {
     "name": "stdout",
     "output_type": "stream",
     "text": [
      "[[47  4]\n",
      " [ 7 19]] \n",
      "\n",
      "Mean Absolute Error: 0.14285714285714285\n",
      "Mean Squared Error: 0.14285714285714285\n",
      "Root Mean Squared Error: 0.3779644730092272 \n",
      "\n",
      "              precision    recall  f1-score   support\n",
      "\n",
      "         0.0       0.87      0.92      0.90        51\n",
      "         1.0       0.83      0.73      0.78        26\n",
      "\n",
      "    accuracy                           0.86        77\n",
      "   macro avg       0.85      0.83      0.84        77\n",
      "weighted avg       0.86      0.86      0.85        77\n",
      "\n",
      "Accuracy: 0.8571428571428571\n"
     ]
    },
    {
     "name": "stderr",
     "output_type": "stream",
     "text": [
      "C:\\Users\\DCL\\anaconda3\\lib\\site-packages\\sklearn\\utils\\validation.py:993: DataConversionWarning: A column-vector y was passed when a 1d array was expected. Please change the shape of y to (n_samples, ), for example using ravel().\n",
      "  y = column_or_1d(y, warn=True)\n"
     ]
    }
   ],
   "source": [
    "# import classifier\n",
    "from sklearn.svm import SVC\n",
    "\n",
    "# initialize the classifier\n",
    "#linear_model.LinearRegression()\n",
    "SVM = SVC(kernel='linear')\n",
    "SVM.fit(X_train,y_train)\n",
    "\n",
    "#use the resulting model to predict value on the test sey\n",
    "y_pred = SVM.predict(X_test)\n",
    "print(confusion_matrix(y_test, y_pred), '\\n')\n",
    "print('Mean Absolute Error:', metrics.mean_absolute_error(y_test, y_pred))\n",
    "print('Mean Squared Error:', metrics.mean_squared_error(y_test, y_pred))\n",
    "print('Root Mean Squared Error:', np.sqrt(metrics.mean_squared_error(y_test, y_pred)), '\\n')\n",
    "\n",
    "print(classification_report(y_test, y_pred))\n",
    "print(\"Accuracy:\", accuracy_score(y_test, y_pred))"
   ]
  },
  {
   "cell_type": "code",
   "execution_count": null,
   "id": "ccd82292",
   "metadata": {},
   "outputs": [],
   "source": []
  }
 ],
 "metadata": {
  "kernelspec": {
   "display_name": "Python 3 (ipykernel)",
   "language": "python",
   "name": "python3"
  },
  "language_info": {
   "codemirror_mode": {
    "name": "ipython",
    "version": 3
   },
   "file_extension": ".py",
   "mimetype": "text/x-python",
   "name": "python",
   "nbconvert_exporter": "python",
   "pygments_lexer": "ipython3",
   "version": "3.9.13"
  }
 },
 "nbformat": 4,
 "nbformat_minor": 5
}
